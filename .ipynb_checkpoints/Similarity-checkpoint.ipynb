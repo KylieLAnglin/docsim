{
 "cells": [
  {
   "cell_type": "code",
   "execution_count": 28,
   "metadata": {},
   "outputs": [],
   "source": [
    "import similarity\n",
    "import operator\n",
    "import matplotlib.pyplot as plt\n",
    "plt.style.use('seaborn')"
   ]
  },
  {
   "cell_type": "code",
   "execution_count": 29,
   "metadata": {
    "collapsed": true
   },
   "outputs": [],
   "source": [
    "filepath = '/Users/kylieleblancKylie/domino/docsim/data/fall_2018/coaching/'"
   ]
  },
  {
   "cell_type": "code",
   "execution_count": 30,
   "metadata": {},
   "outputs": [
    {
     "name": "stdout",
     "output_type": "stream",
     "text": [
      "Average similarity to centroid:  0.91\n",
      "Standard deviation of similarity to centroid:  0.03\n",
      "Average pairwise similarity:  0.84\n",
      "Standard deviation of pairwise similarity:  0.03\n",
      "[0.9366952017599046, 0.949206676128448, 0.939517544127031, 0.9162748782183237, 0.934744265175048]\n",
      "[0.8573176362854407, 0.8671725652967226, 0.8594379988485386, 0.8374668106020966, 0.8539791994748049]\n"
     ]
    },
    {
     "data": {
      "image/png": "[encoded data removed]",
      "text/plain": [
       "<Figure size 576x396 with 1 Axes>"
      ]
     },
     "metadata": {},
     "output_type": "display_data"
    }
   ],
   "source": [
    "doc_dict, fall_sim_centroid, fall_sim_pairwise = similarity.calc_within_group_sim_metrics(filepath, pattern = '2018*docx')\n",
    "print(fall_sim_centroid[:5])\n",
    "print(fall_sim_pairwise[:5])\n",
    "plt.hist(fall_sim_pairwise, color = \"blue\", label = \"Pairwise Similarity\", alpha = .5)\n",
    "plt.hist(fall_sim_centroid, color = \"green\", label = \"Similarity to Centroid\", alpha = .5)\n",
    "plt.legend()\n",
    "plt.title(\"W/in Fall Coaching Measures of Similarity\")\n",
    "plt.show()"
   ]
  },
  {
   "cell_type": "markdown",
   "metadata": {},
   "source": [
    "## Sort texts by metrics"
   ]
  },
  {
   "cell_type": "code",
   "execution_count": 31,
   "metadata": {},
   "outputs": [
    {
     "data": {
      "text/plain": [
       "('2018_3_3C_Transcript.docx', 0.8080162502141867)"
      ]
     },
     "execution_count": 31,
     "metadata": {},
     "output_type": "execute_result"
    }
   ],
   "source": [
    "dict_sim = similarity.dict_doc_similarity(doc_dict.keys(),fall_sim_pairwise) \n",
    "sorted_dict = sorted(dict_sim.items(), key=operator.itemgetter(1))\n",
    "sorted_dict[10]"
   ]
  },
  {
   "cell_type": "markdown",
   "metadata": {},
   "source": [
    "## Outlier Text"
   ]
  },
  {
   "cell_type": "code",
   "execution_count": 33,
   "metadata": {},
   "outputs": [
    {
     "data": {
      "text/plain": [
       "'Coach:  [0:00:00] Okay.  So first let’s just take a big deep breath because it’s over and you did really well.  Okay, so tell me first about just how you think it went? [0:00:12]\\nCoach:  [0:00:040] Yeah.  You know, and that’s really awesome because you’re reflecting on exactly what I wanted to talk about.  So it shows that you’re really aware of your own practice which is the most important thing as a teacher.  Because eventually you won’t have people coaching you.  So first thing I want to tell you is that I thought you did a really amazing job of making sure that when you were responding to students, you were asking them to give you text evidence and that is definitely the right response when students just give an answer so that’s really awesome.  Don’t stop doing that. [0:01:07]\\nCoach:  [0:01:07] The second thing is I want you to actually use that strategy to help you respond when you want to keep pushing students more, but there are other students trying to answer.  So the first thing is just, you don’t need to call on the student immediately when they raise their hand.  You can just ask them to wait and that’s totally fine.  They will do that.  The second thing is you can use that same technique of asking questions about like where in the text evidence to help students who have like partial answers or partially correct answers, expanding them a little bit more.  So if you can think back to the simulation, were there any times where you thought a student’s answer was really not quite correct or that they needed to develop it further. [0:01:45]\\nCoach:  [0:02:13] And I noticed that you did eventually come back.  And what I want to try to have you do this time is not to wait that long because it’s so far apart that the student might not get it but to do it right there.  So if I look back at what you did say, you asked Ethan, ‘was there something in the text that made you thought that she was excited’ and he said a couple of things about like elevator buttons and things like that.  But let’s make sure that we know exactly, like what is incorrect about the excitement part or about Ethan’s answer about the elevator buttons. [0:02:43]\\nCoach:  [0:02:52] Yes, yeah, that’s definitely true but it’s actually – if we look at the uhm specific question, it’s how is she feeling when Pismo brought out the lie detector test?  You don’t even have to address all of this like, in general how is she feeling.  But you can point Ethan back to the specific place in the text where it’s talking about the lie detector results and have him respond there and he won’t be able to find any evidence that she’s excited when the lie detector results – did that make sense? [0:03:18]\\nCoach:  [0:03:19] Okay.  So if I’m Ethan and I said oh she’s excited, what could you say? [0:03:23]\\nCoach:  [0:03:4] Awesome, perfect.  Yeah and if he says, oh I can’t.  What’s another question that you can ask him to help him see that in the text. [0:03:40]\\nCoach:  [0:04:45] Oh so to help him get to the right question.  So he might be able to say oh, I don’t see excitement but he doesn’t know what emotion she is feeling, what words could you point him to? [0:03:54]\\nCoach:  [0:04:05] Yeah, but you’re right, you want to point him back to-perfect.  Okay, so I’m going to pretend that I’m a student and give you a different answer for the same question that is also incorrect for you to try to respond to. So I think that Lisa was angry when Pismo mentions her lie detector results [0:04:23].\\nCoach:  [0:04:30] Uhm they, maybe get red in the face or raise their voice, something like that. [0:04:34]\\nCoach:  [0:04:42] Oh I guess not. [0:04:43]\\nCoach:  [0:04:48] Uh her heart is pounding and she smiled and relaxed because he believed that false the lie detector results [0:04:57]\\nCoach:  [0:05:01] I guess maybe she was nervous and then like after it worked, she felt better.  That was amazing and I really love that you asked me about the anger to like specify what would that look like and then it helped me be really clear that it wasn’t there when I looked.  That was amazing.  I’m so excited to see you do it again.  And you did a really good job of like, I know you’re nervous but you didn’t look-you don’t sound nervous when you’re talking and that’s perfect.  You got it. [0:05:26]'"
      ]
     },
     "execution_count": 33,
     "metadata": {},
     "output_type": "execute_result"
    }
   ],
   "source": [
    "sorted_dict\n",
    "doc_dict[sorted_dict[0][0]]"
   ]
  },
  {
   "cell_type": "markdown",
   "metadata": {},
   "source": [
    "## Most Average Text"
   ]
  },
  {
   "cell_type": "code",
   "execution_count": 34,
   "metadata": {},
   "outputs": [
    {
     "data": {
      "text/plain": [
       "'Coach:  [00:00:00] so how are you feeling the first time [00:00:02]? \\nCoach:  [00:00:10] good, good.  So, I\\'m glad that you\\'re feeling great or good about it.  Hopefully, we can get you to feel even better for the next time.  So first of all, I just want to say I appreciate that you maintain enthusiasm in the simulator.  I know that\\'s hard when you\\'re like trying to interact with these avatars such students.  Also, I want to say that I really appreciated the way that you were constantly probing for evidence.  When a student would make a claim, you would say, \"What makes you think that?  What in the text?\" [00:00:35]\\nCoach:  [00:00:36] And then you were also facilitating and pointing them to places in the text.  So I think that as we move forward and we try to make the next simulation a little stronger, it might be best for us to focus on scaffolding for student comprehension. [00:00:50]\\nCoach:  [00:00:51] So sometimes students um can struggle to comprehend the text that they\\'re reading.  They can make claims that we know that aren\\'t supported in the text, can be outright refuted.  So we really want to focus on the feedback that we provide them to help support them in making sense and also revising their response.  So can you think of a time during the last simulation where a student gave an answer that was not accurate [00:01:16]? \\nCoach:  [00:01:38] good.  So I\\'m glad that you\\'re putting out--those out.  Let\\'s focus on one Eva for the second question.  So she said that Lisa is the new student intern.  Why is that not a valid claim [00:01:50]? \\nCoach:  [00:01:54] exactly.  So think about what you\\'re already doing well.  What could you do to like stick with Eva to help her realize that that\\'s a misconception?  Because that\\'s not really what\\'s happening right in the question like who is she really?  So what might you be able to do?  What make - what kind of feedback might you be able to give that would help us know that that is a misconception [00:02:18]?\\nCoach:  [00:02:23] perfect.  Perfect [00:02:23].\\nCoach:  [00:02:30] Right?  So we know that with Ava’s responses in regard to the question number two, and with who Lisa really is.  So what I going to reference or to this place in the text talks about if Pismo was so smart, would he be able to tell who she really was, would he know that her cover as a student intern was all a lie?  So maybe one of the best things to do would be to reference Eva, and other students to revisit this piece of the text and then ask Eva, \"Eva, after looking at this passage, would you want to revise your answer?\" [00:03:05] \\nCoach:  [00:03:06] And hopefully she would.  And at that point you just want to make sure you\\'re continuing to get high quality descriptive feedback like, \"Eva, I really like how you went back in the text, you know, after spending more time with it, you did something that really good readers do.  You make revisions to readers,\" those sorts of things.  And just keep that in mind that you - that would also be a good strategy moving forward for Ethan as well. [00:03:30] \\nCoach:  [00:03:32] So how might the feedback that we just talked about pointing them back to the text, having them kind of grapple at everything.  How might that be better than kind of leaving it open to like moving on to other students and seeing if they have a response [00:03:47]?\\nCoach:  [00:03:48] Right.  Yeah, you\\'ve [00:03:49] -\\nCoach:  [00:03:52] right.  Is there like [00:03:53] -\\nCoach:  [00:03:57] so if you don\\'t address it in the moment, you\\'re kind of really just hoping, right then that the conversation gets back to that and that the students - the other students kind of point you in that direction and that Eva will, you know, hopefully realize that that was a misconception .  But if you address it hadn\\'t went, then you\\'ll have dealt with it.  Because you don\\'t want - well, what you don’t want to happen is for students to leave thinking that, \"Oh, it could\\'ve been - she could have been a student intern or she could\\'ve been a spy she could have been a reporter.\"  Okay.  So let\\'s do a brief practice.  So, let\\'s see.  So I\\'ll ask - so I\\'m going to ask you a question and then you can respond.  So, how about if I said that Lisa is feeling angry when - when the lie detector results I brought up, what would you say to me [00:04:58]? \\nCoach:  [00:05:07] you could ask why they think that [00:05:09].\\nCoach:  [00:05:09] yeah [00:05:10].  \\nCoach:  [00:05:11] okay, great [00:05:12].'"
      ]
     },
     "execution_count": 34,
     "metadata": {},
     "output_type": "execute_result"
    }
   ],
   "source": [
    "sorted_dict\n",
    "doc_dict[sorted_dict[len(doc_dict) - 1][0]]"
   ]
  },
  {
   "cell_type": "code",
   "execution_count": 35,
   "metadata": {},
   "outputs": [
    {
     "name": "stdout",
     "output_type": "stream",
     "text": [
      "Average similarity to centroid:  0.89\n",
      "Standard deviation of similarity to centroid:  0.09\n",
      "Average pairwise similarity:  0.80\n",
      "Standard deviation of pairwise similarity:  0.08\n",
      "[0.9060503461033959, 0.6431842120858048, 0.9254507776726237, 0.9404057760698318, 0.9207615095974734]\n",
      "[0.7984112952890651, 0.5520221510597201, 0.8311644317838123, 0.8378776464554901, 0.831292180543849]\n"
     ]
    },
    {
     "data": {
      "image/png": "[encoded data removed]",
      "text/plain": [
       "<Figure size 576x396 with 1 Axes>"
      ]
     },
     "metadata": {},
     "output_type": "display_data"
    }
   ],
   "source": [
    "filepath = '/Users/kylieleblancKylie/domino/docsim/data/spring_2019/coaching/'\n",
    "doc_dict, spring_sim_centroid, spring_sim_pairwise = similarity.calc_within_group_sim_metrics(filepath, pattern = '2019*')\n",
    "print(spring_sim_centroid[:5])\n",
    "print(spring_sim_pairwise[:5])\n",
    "plt.hist(spring_sim_pairwise, color = \"blue\", label = \"Pairwise Similarity\", alpha = .5)\n",
    "plt.hist(spring_sim_centroid, color = \"green\", label = \"Similarity to Centroid\", alpha = .5)\n",
    "plt.legend()\n",
    "plt.title(\"W/in Spring Coaching Measures of Similarity\")\n",
    "plt.show()"
   ]
  },
  {
   "cell_type": "markdown",
   "metadata": {},
   "source": [
    "## Sort texts by metrics"
   ]
  },
  {
   "cell_type": "code",
   "execution_count": 36,
   "metadata": {
    "collapsed": true
   },
   "outputs": [],
   "source": [
    "dict_sim = similarity.dict_doc_similarity(doc_dict.keys(),spring_sim_pairwise) \n",
    "sorted_dict = sorted(dict_sim.items(), key=operator.itemgetter(1))"
   ]
  },
  {
   "cell_type": "markdown",
   "metadata": {},
   "source": [
    "## Outlier Text"
   ]
  },
  {
   "cell_type": "code",
   "execution_count": 37,
   "metadata": {},
   "outputs": [
    {
     "data": {
      "text/plain": [
       "'Coach:  [00:00:01] All right, so how do you think that went? [00:00:02]\\nCoach:  [00:00:05] What do you mean never great? [00:00:06]\\nCoach:  [00:00:23] Well there was one redirection that you used twice that actually worked quite successfully, you remember what it was?\\nCoach:  [00:00:32] Quiet hands quiet mouths? [00:00:33]\\nCoach:  [00:00:35] On both times you use that that was successful [00:00:36]\\nCoach:  [00:00:38] Yeah.  So, that idea that this was all not working- [00:00:41]\\nCoach:  [00:00:42] -do rest on the fact that you did have several examples where you actually did work well. [00:00:46]\\nCoach:  [00:00:47] So, let’s try to replicate more of those. [00:00:48]\\nCoach:  [00:00:48] So what I’d like to have us focus this conversation on is for you to be more specific with naming the student, naming the behavior, then naming the redirection. [00:00:58]\\nCoach:  [00:00:59] So like for example, the phrase, quiet hands quiet mouths, does that specifically identify a student that’s potentially not following that advice? [00:01:09]\\nCoach:  [00:01:10] It does? [00:01:10]\\nCoach:  [00:01:11] If I just say the phrase, don’t forget our expectation, quiet hands quiet mouths. [00:01:15]\\nCoach:  [00:01:18] Not just a little, yeah. [00:01:19]\\nCoach:  [00:01:20] I mean, so as soon as you see something, so for example, Ethan was beatboxing. [00:01:22]\\nCoach:  [00:01:23] What can you say to Ethan that is specific that redirects his behavior?  What do you think? [00:01:29]\\nCoach:  [00:01:31] So can you see them?  He’ll be like, yeah, you can see my hands. [00:01:34]\\nCoach:  [00:01:35] So what can you say? [00:01:36]\\nCoach:  [00:01:38] Ethan, hands on your lap. [00:01:39]\\nCoach:  [00:01:40] Eyes on me. [00:01:40]\\nCoach:  [00:01:41] I mean, so you’re identifying the behavior that he is exhibiting, specifically to him. [00:01:46]\\nCoach:  [00:01:47] And then you’re providing him with a redirection. [00:01:48]\\nCoach:  [00:01:49] So then what would a non-specific response look like if I was texting?  So what’s an example of a non-specific response? [00:01:56]\\nCoach:  [00:01:59] But from you.  [00:02:00]\\nCoach:  [00:02:01] Uh-huh. [00:02:01]\\nCoach:  [00:02:04] Perfect, great.  So now you can flip that and say- what could you say now that’s very specific to redirect my behavior or excuse me, to stop the behavior and redirection him. [00:02:13]\\nCoach:  [00:02:18] And just eyes on me? [00:02:18]\\nCoach:  [00:02:22] Right. [00:02:22]\\nCoach:  [00:02:24] But what are you also trying to do at the same time? [00:02:26]\\nCoach:  [00:02:29] In general, what are you trying to do? [00:02:30]\\nCoach:  [00:02:32] Yeah.  You’re trying to teach a lesson. [00:02:33]\\nCoach:  [00:02:34] So in terms of trying to invite folks in, I’m totally with you. [00:02:37]\\nCoach:  [00:02:38] But it’s a matter of like, if you’ve got 16 redirections that you have to get through, you need to make sure that each one is succinct. [00:02:44]\\nCoach:  [00:02:45] Yeah, so sort of the next step of that would be in addition to being specific, it’s being succinct.. [00:02:49]\\nCoach:  [00:02:50] You know, so the idea of like, if you see a cell phone for example, you could then say what’s a specific response? [00:02:55]\\nCoach:  [00:02:59] Uh-huh.  And then to be short you can be like, Ethan, cell phone in your pocket, eyes up on me.  Uh-huh, just real quick. [00:03:03]\\nCoach:  [00:03:04] All right?  So then what would a non-specific response look like, if I was whispering to Jasmine and if my name is Ethan? [Begins whispering] [00:03:10]\\nCoach:  [00:03:13] Perfect.  So how can you make it more specific? [00:03:15]\\nCoach:  [00:03:19] Okay.  Even faster, what do you think? [00:03:21]\\nCoach:  [00:03:24] So just please be quiet, name the behavior. [00:03:26]\\nCoach:  [00:03:2 8] There you go or just voices off.  Something- that’s just a matter, so again, those best, sort of three step formula of name the student, name the behavior that you want them to stop doing.  And then offer them the redirection that you’d like them to do. [00:03:41]\\nCoach:  [00:03:42] With me so far? [00:03:42]\\nCoach:  [00:03:43] Okay.  So then let’s practice for example, if I am Jasmine and if I am doing one of these things.  What’s an example of a specific response if I’m Jasmine? [00:03:56]\\nCoach:  [00:03:59] Your phone where I’m sorry? [00:04:00]\\nCoach:  [00:04:01] In your desk?  All right, okay.  So again… [00:04:03]\\nCoach:  [00:04:06] So you’ve got the formula, so again, the name, you’re naming the behavior that you want to see stop.  And then you’re offering the specific thing that you want them to do, as opposed to that more general expectation piece, Okay? [00:04:18]\\nCoach:  [00:04:18] So now let’s hear you try it with let’s say, Ethan starts doing an impersonation of somebody, what could you say?  “These are things that I love, I love doing impersonations in the classroom.  This is”- [00:04:32]\\nCoach:  [00:04:34] Okay.  Or you just say, Ethan no impersonations right now, voices off, eyes on me.  So you’re naming the behavior. [00:04:40]\\nCoach:  [00:04:43] I mean, as you can get a sense of it in civil environment.  Alright, so do you feel comfortable? [00:04:48]\\nCoach:  [00:04:59] With these specific responses.  What are the elements?  We have the name. [00:04:52]\\nCoach:  [00:04:55] There you go. [00:04:55]\\nCoach:  I’m excited to see you try it. [00:04:56].\\nCoach:  [00:04:58] All right, let’s go. [00:04:58]\\nCoach:  I’m feeling good. [00:05:00]'"
      ]
     },
     "execution_count": 37,
     "metadata": {},
     "output_type": "execute_result"
    }
   ],
   "source": [
    "sorted_dict\n",
    "doc_dict[sorted_dict[0][0]]"
   ]
  },
  {
   "cell_type": "markdown",
   "metadata": {},
   "source": [
    "## Most Average Text"
   ]
  },
  {
   "cell_type": "code",
   "execution_count": 23,
   "metadata": {},
   "outputs": [
    {
     "data": {
      "text/plain": [
       "'Coach: [00:00:00] Go ahead and tell me your thoughts about what went well in the simulator and what you feel good. [00:00:06]\\nCoach: [00:00:28] Okay.  I mean all really good things to think about and like the right questions to ask so we can use this time checklist.  Before we do that though, what I want to first tell you about today I’m going to keep with - the first thing I want to say is to tell you what you did well, which is that you’ve made sure to respond to every behavior.  You didn’t just like, ignore them or kind of talk over them which was great.  So I want you to keep doing that and now we’ll spend the rest of the time talking about that kind of tone of voice and wording and when to respond. [00:00:56]\\nCoach: [00:00:56] So for that last part, you should respond right away.  The more that you let the behavior go on, the more that sends the message that he’d think it’s acceptable sort of like and you don’t want to send that message, especially when it’s a behavior that’s like could be interrupting of other students’ learning. [00:01:12]\\nCoach: [00:01:13] So as soon as you notice it, that’s when you want to say some good norm in terms of what you say and how do you make to stay calm.  So the fewer words that you use, you send more of a message of like this, like if you used to – if you talk a lot about it, then you’re sending a message of like, this is a big deal and I’m taking a lots of energy and that makes it feel more dramatic.  So, you want to add that gives you more chance to, like, be emotional. [00:01:36]\\nCoach: [00:01:37] So, do you want to make it not like quick like talking fast but like few words and that will help you with some of that like just say it simply and move on. [00:01:47]\\nCoach: [00:01:48] Oftentimes if you smile when you’re saying if I can help with the positive tone. So let’s do Ethan’s on his phone, right? [00:02:01]\\nCoach: [00:02:01] All right.  So I’m Ethan on my phone, try to tell me what I should do. [00:02:05]\\nCoach: [00:02:09] Perfect.  Yeah.  So that was nice and short, you didn’t ask questions or be like because all of these, you know, yeah perfect.  Do you want to try it again and add a little more positive tone for me. [00:02:19]\\nCoach: [00:02:25] Yeah, perfect.  That is often like a nice way to begin. [00:02:29]\\nCoach: [00:02:30] So you can smile at the end also and saying thank you is perfectly reasonable.  And then, you want to make sure that you quickly moved back to what you’re saying.  So it doesn’t feel like you took the whole classes’ attention to, like, let’s look at Ethan and what he’s doing, should let can we do that and now we’re moving on.\\nCoach: [00:03:07] [Singing] [00:03:09]\\nCoach: [00:03:13] Try it again but focus on the not singing part rather than the because it – let’s get back to this discussion, I can be like well I’m contributing to the discussion cause I’m singing. [00:03:24]\\nCoach: [00:03:26] [singing]\\nCoach: [00:03:30] Then? [00:03:30]\\nCoach: [00:03:34] One more time with a slightly more positive tone. [00:03:37]\\nCoach: [00:03:39] I know it’s hard.  But like the positive tone was one of the things that I had to spend the most time like thinking about all the time when I was – because it’s easy to get frustrated when you lost control [00:03:48]\\nCoach: [00:03:53] [Singing] [00:03:55]\\nCoach: [00:03:57] Perfect.  And then keep on… [00:03:58]\\nCoach: [00:04:04] Excellent.  Okay.  We have about a minute left, so we can either do more practice or if you have questions so far of the things that you want to discuss.  [00:04:13]\\nCoach: [00:04:23] Yeah.  So the answer is, it’s possible there might be certain kids that that’s true for.  In my experience, especially like on the first day of class or like yeah, towards the beginning before you established norms, the positive is typically good for everybody.  Because you’re still clear, right, you’re not saying like, don’t sing.  But you should –as long as you’re not being confusing, you’re being clear about what you want, then students understand and you can always, if the behavior keeps going that’s when you might need to change your tune. Does that make sense? [00:05:00]\\nCoach: [00:05:03] Good question, though.  All right, you got this. [00:05:04]'"
      ]
     },
     "execution_count": 23,
     "metadata": {},
     "output_type": "execute_result"
    }
   ],
   "source": [
    "sorted_dict\n",
    "doc_dict[sorted_dict[len(doc_dict) - 1][0]]"
   ]
  },
  {
   "cell_type": "code",
   "execution_count": null,
   "metadata": {
    "collapsed": true
   },
   "outputs": [],
   "source": []
  }
 ],
 "metadata": {
  "kernelspec": {
   "display_name": "Python [conda env:spacy]",
   "language": "python",
   "name": "conda-env-spacy-py"
  },
  "language_info": {
   "codemirror_mode": {
    "name": "ipython",
    "version": 3
   },
   "file_extension": ".py",
   "mimetype": "text/x-python",
   "name": "python",
   "nbconvert_exporter": "python",
   "pygments_lexer": "ipython3",
   "version": "3.7.0"
  }
 },
 "nbformat": 4,
 "nbformat_minor": 2
}
