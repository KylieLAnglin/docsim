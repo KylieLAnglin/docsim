{
 "cells": [
  {
   "cell_type": "markdown",
   "metadata": {},
   "source": [
    "# Import and Clean Scripts"
   ]
  },
  {
   "cell_type": "code",
   "execution_count": 1,
   "metadata": {},
   "outputs": [
    {
     "name": "stderr",
     "output_type": "stream",
     "text": [
      "/Users/kylieleblancKylie/anaconda/envs/spacy/lib/python3.7/site-packages/sklearn/model_selection/_split.py:18: DeprecationWarning: Using or importing the ABCs from 'collections' instead of from 'collections.abc' is deprecated, and in 3.8 it will stop working\n",
      "  from collections import Iterable\n"
     ]
    }
   ],
   "source": [
    "import docx\n",
    "import os\n",
    "import nltk\n",
    "import re\n",
    "from nltk import sent_tokenize, word_tokenize\n",
    "import pandas as pd\n",
    "\n",
    "from nltk import WordNetLemmatizer \n",
    "import operator\n",
    "\n",
    "import fnmatch\n",
    "\n",
    "import statistics\n",
    "lemmatizer = WordNetLemmatizer() \n",
    "\n",
    "from sklearn.feature_extraction.text import TfidfVectorizer\n",
    "\n",
    "from collections import Counter\n",
    "from sklearn.feature_extraction.text import CountVectorizer\n",
    "from sklearn.metrics.pairwise import cosine_similarity\n",
    "from scipy import spatial\n",
    "from sklearn import metrics"
   ]
  },
  {
   "cell_type": "code",
   "execution_count": 2,
   "metadata": {},
   "outputs": [],
   "source": [
    "ideal_filepath = '/Users/kylieleblancKylie/domino/docsim/data/models/'\n",
    "clean_filepath = \"/Users/kylieleblancKylie/domino/docsim/data/clean/\""
   ]
  },
  {
   "cell_type": "markdown",
   "metadata": {},
   "source": [
    "# Extract Text from Documents"
   ]
  },
  {
   "cell_type": "code",
   "execution_count": 3,
   "metadata": {},
   "outputs": [],
   "source": [
    "def make_text_dict(filepath, pattern):\n",
    "    os.chdir(filepath)\n",
    "    doc_text = {}\n",
    "    for file in os.listdir():\n",
    "        if fnmatch.fnmatch(file, pattern):\n",
    "            doc_text[file] = clean_text(filepath + file)\n",
    "    return doc_text\n",
    "\n",
    "def clean_text(filename):\n",
    "    doc = docx.Document(filename)\n",
    "    fullText = []\n",
    "    for para in doc.paragraphs:\n",
    "        new_text = para.text\n",
    "        new_text = fix_typos(new_text)\n",
    "        fullText.append(new_text)\n",
    "    new_text = ' '.join(fullText)\n",
    "    return new_text\n",
    "\n",
    "def fix_typos(string):\n",
    "    new_text = string.replace('00:00:11]', '')\n",
    "    new_text = new_text.replace('Dave', 'Dev')\n",
    "    return new_text"
   ]
  },
  {
   "cell_type": "code",
   "execution_count": 4,
   "metadata": {},
   "outputs": [
    {
     "data": {
      "text/plain": [
       "{'Classroom Management Model D1.docx': 'How are you feeling about that first simulation?  Great! Hopefully we can get you feeling even more ready for the next one.   One thing that made me so excited is that I saw you responding to students’ misbehaviors immediately with a very specific and succinct redirection. This is really important because it helps you stop the behavior quickly so that it doesn’t get worse, distract other students, or take time away from class. And because it was specific students knew exactly what to do.   To make your next simulation even stronger, I want you to focus on having a calm and positive demeanor when redirecting students. This is important because we want to balance being authoritative with being caring. We want students to follow our directions but we never want to make them feel scared or embarrassed in the process. We want them to feel that we as the teacher respect and care about them.   For example, I noticed in your last simulation that when you told Ethan to not to hum you used a slightly negative tone of voice and had a slightly negative expression on your face. This is totally understandable because it can be really stressful to lead a discussion while students are misbehaving. In those situations, it can be really helpful to use a nonverbal signal to redirect student behavior so that you don’t have to worry about controlling your tone of voice. It also gives you a minute to calm yourself down. Then you can smile afterwards and continue with the discussion.  Let’s look at another example. When Ethan hums how could you respond with a calm demeanor?  Exactly, that’s great. You could also this signal. What would a response that’s not calm look like?  Why are the calm examples better than the non-calm example you just gave?  Exactly. Now I want you to actually practice redirecting a student. I will pretend to be an off-task student. I want you to give a calm non-verbal redirection that tells me what to stop doing or start doing. Ok?  Why don’t you start by pretending to teach the lesson?  That was great. You conveyed everything you needed to with a non-verbal signal and then smiled and continued with the discussion. For the next session, think about how you can adapt the signal for each different misbehavior so that you don’t just use this one every time. I’m so excited to see you give calm redirections in the next session!    ',\n",
       " 'Classroom Management Model A6.docx': 'How are you feeling about that first simulation?   That’s totally fine! It’s just practice. Let’s use this time to get you feeling prepared for your second attempt.  One thing that made me so excited is that I saw you noticed every time a student misbehaved. That is so important because it shows me that you already have the lens to recognize misbehavior as soon as it begins.   To make your next simulation even stronger, I want you to focus on making your redirections more timely so that you can address the misbehavior right away. This prevents the misbehaviors from distracting other students and taking away from class time.   For example, I noticed in your last simulation that you were hesitant to correct Dev’s behavior. Next time Dev talks about rocket club I want you to immediately redirect the behavior. For example, you could say: Dev voice off.   Let’s look at another example. When an avatar misbehaves how could you respond immediately to redirect the behavior?  Exactly, that’s great. You could also say please stop talking. What would a response that’s not timely look like?  Why is the first response better than ignoring the behavior?  Exactly. Now I want you to actually practice redirecting a student. I will pretend to be an off-task student. I want you to redirect my behavior immediately. Ok?  Why don’t you start by pretending to teach the lesson?  That was great. You addressed my behavior right away. For the next session, you could try telling the student what to do instead of what not to do. Both strategies work because they make your expectations for student behavior clear. I’m so excited to see you redirect student behavior immediately in the next session!  ',\n",
       " 'Classroom Management Model C6.docx': 'How are you feeling about that first simulation?   That’s totally fine! It’s just practice. Let’s use this time to get you feeling prepared for your second attempt.   One thing that made me so excited is that I saw you giving really specific redirections to students when they misbehaved. This is really important because it ensures that your directions are clear so that students understand what they need to do to meet them and were not confused.  To make your next simulation even stronger, I want you to focus on making your redirections as succinct as possible so that they don’t take time away from the class discussion.     For example, I noticed in your last simulation that you told Dev to behave a certain way. While this statement is specific, it takes a lot of time away from class because it’s wordy. Next time Dev talks about rocket club I want you to redirect them in as few words as possible. For example, you could use a nonverbal signal or simply say “Dev, stop talking”. Then you can go back to the class discussion  Let’s look at another example. When Dev misbehaves how could you respond succinctly?   Exactly, that’s great. Remember, you don’t need to explain rationale. That’s something you can talk about with the whole class as part of the norms discussion, but when a student misbehaves we don’t want it to interrupt the class. What would a response that’s not succinct look like?   Why are the succinct examples better than the non-succinct example you just gave?   Exactly. It should be short and direct, but not angry or mean. You can smile, use a positive tone, and say please to help convey respect and care.   Now I want you to actually practice redirecting a student. I will pretend to be an off-task student. I want you to give a succinct redirection that tells me what to stop doing or start doing. Ok?   Why don’t you start by pretending to teach the lesson?  That was great. You told me exactly what you wanted to see. For the next session, you can also try to use some non-verbal signals so that you’re not saying “stop” every single time. I’m so excited to see you give succinct redirections in the next session!  ',\n",
       " 'Classroom Management Model B1.docx': 'How are you feeling about that first simulation?   Great! Hopefully we can get you feeling even more ready for the next one.   One thing that made me so excited is that I saw you responding to students’ misbehaviors as soon as those behaviors began. This is really important because it helps you stop the behavior quickly so that it doesn’t get worse, distract other students, or take time away from class.   To make your next simulation even stronger, I want you to focus on making your redirections more specific so that students know exactly what you want them to stop doing or start doing. This helps us make sure that students aren’t confused.     For example, I noticed in your last simulation that you told Ethan to behave a certain way. The words behave a certain way can be confusing because it can mean different things for different people and you can’t see if a student is following those directions. Next time Ethan hums I want you to tell them exactly what you want to see. For example, you could say: avatar, voice off, hands together.   Let’s look at another example. When Ethan hums how could you respond to tell them exactly what to do?   Exactly, that’s great. You could also use a non-verbal signal like this. What would a response that’s not specific look like?   Why are the specific examples better than the non-specific example you just gave?   Exactly. It should be direct, but not angry or mean. You can smile, use a positive tone, and say please to help convey respect and care. But we want it to be a statement and not a question so that you convey authority and it is clear what students need to do.   Now I want you to actually practice redirecting a student. I will pretend to be an off-task student. I want you to give a specific redirection that tells me what to stop doing or start doing. Ok?   Why don’t you start by pretending to teach the lesson?  That was great. You told me exactly what you wanted to see. For the next session, try to say it as an instruction instead of as a question so that there is no room for the student to be confused about whether they have to listen to you or not. I’m so excited to see you give specific redirections in the next session! ',\n",
       " 'Classroom Management Model B6.docx': 'How are you feeling about that first simulation?   Great! Hopefully we can get you feeling even more ready for the next one.   One thing that made me so excited is that I saw you responding to students’ misbehaviors as soon as those behaviors began. This is really important because it helps you stop the behavior quickly so that it doesn’t get worse, distract other students, or take time away from class.   To make your next simulation even stronger, I want you to focus on making your redirections more specific so that students know exactly what you want them to stop doing or start doing. This helps us make sure that students aren’t confused.     For example, I noticed in your last simulation that you told Dev to behave a certain way. The words behave a certain way can be confusing because it can mean different things for different people and you can’t see if a student is following those directions. Next time Dev talks about Rocket Club I want you to tell them exactly what you want to see. For example, you could say: Dev, voice off, hands together.   Let’s look at another example. When Dev misbehaves how could you respond to tell them exactly what to do?   Exactly, that’s great. You could also use a non-verbal signal like this. What would a response that’s not specific look like?   Why are the specific examples better than the non-specific example you just gave?   Exactly. It should be direct, but not angry or mean. You can smile, use a positive tone, and say please to help convey respect and care. But we want it to be a statement and not a question so that you convey authority and it is clear what students need to do.   Now I want you to actually practice redirecting a student. I will pretend to be an off-task student. I want you to give a specific redirection that tells me what to stop doing or start doing. Ok?   Why don’t you start by pretending to teach the lesson?  That was great. You told me exactly what you wanted to see. For the next session, try to say it as an instruction instead of as a question so that there is no room for the student to be confused about whether they have to listen to you or not. I’m so excited to see you give specific redirections in the next session! ',\n",
       " 'Classroom Management Model A1.docx': 'How are you feeling about that first simulation?   That’s totally fine! It’s just practice. Let’s use this time to get you feeling prepared for your second attempt.  One thing that made me so excited is that I saw you noticed every time a student misbehaved. That is so important because it shows me that you already have the lens to recognize misbehavior as soon as it begins.   To make your next simulation even stronger, I want you to focus on making your redirections more timely so that you can address the misbehavior right away. This prevents the misbehaviors from distracting other students and taking away from class time.   For example, I noticed in your last simulation that you were hesitant to correct Ethan’s behavior. Next time Ethan hums I want you to immediately redirect the behavior. For example, you could say: Ethan voice off.   Let’s look at another example. When an avatar misbehaves how could you respond immediately to redirect the behavior?  Exactly, that’s great. You could also say please stop talking. What would a response that’s not timely look like?  Why is the first response better than ignoring the behavior?  Exactly. Now I want you to actually practice redirecting a student. I will pretend to be an off-task student. I want you to redirect my behavior immediately. Ok?  Why don’t you start by pretending to teach the lesson?  That was great. You addressed my behavior right away. For the next session, you could try telling the student what to do instead of what not to do. Both strategies work because they make your expectations for student behavior clear. I’m so excited to see you redirect student behavior immediately in the next session!  ',\n",
       " 'Classroom Management Model D6.docx': 'How are you feeling about that first simulation?  Great! Hopefully we can get you feeling even more ready for the next one.   One thing that made me so excited is that I saw you responding to students’ misbehaviors immediately with a very specific and succinct redirection. This is really important because it helps you stop the behavior quickly so that it doesn’t get worse, distract other students, or take time away from class. And because it was specific students knew exactly what to do.   To make your next simulation even stronger, I want you to focus on having a calm and positive demeanor when redirecting students. This is important because we want to balance being authoritative with being caring. We want students to follow our directions but we never want to make them feel scared or embarrassed in the process. We want them to feel that we as the teacher respect and care about them.   For example, I noticed in your last simulation that when you told Dev to behave a certain way you used a slightly negative tone of voice and had a slightly negative expression on your face. This is totally understandable because it can be really stressful to lead a discussion while students are misbehaving. In those situations, it can be really helpful to use a nonverbal signal to redirect student behavior so that you don’t have to worry about controlling your tone of voice. It also gives you a minute to calm yourself down. Then you can smile afterwards and continue with the discussion.  Let’s look at another example. When Dev talks about rocket club how could you respond with a calm demeanor?  Exactly, that’s great. You could also this signal. What would a response that’s not calm look like?  Why are the calm examples better than the non-calm example you just gave?  Exactly. Now I want you to actually practice redirecting a student. I will pretend to be an off-task student. I want you to give a calm non-verbal redirection that tells me what to stop doing or start doing. Ok?  Why don’t you start by pretending to teach the lesson?  That was great. You conveyed everything you needed to with a non-verbal signal and then smiled and continued with the discussion. For the next session, think about how you can adapt the signal for each different misbehavior so that you don’t just use this one every time. I’m so excited to see you give calm redirections in the next session!    ',\n",
       " 'Classroom Management Model C1.docx': 'How are you feeling about that first simulation?   That’s totally fine! It’s just practice. Let’s use this time to get you feeling prepared for your second attempt.   One thing that made me so excited is that I saw you giving really specific redirections to students when they misbehaved. This is really important because it ensures that your directions are clear so that students understand what they need to do to meet them and were not confused.  To make your next simulation even stronger, I want you to focus on making your redirections as succinct as possible so that they don’t take time away from the class discussion.     For example, I noticed in your last simulation that you told Ethan to behave a certain way. While this statement is specific, it takes a lot of time away from class because it’s wordy. Next time Ethan hums I want you to redirect them in as few words as possible. For example, you could use a nonverbal signal or simply say “avatar, stop humming”. Then you can go back to the class discussion  Let’s look at another example. When Ethan misbehaves how could you respond succinctly?   Exactly, that’s great. Remember, you don’t need to explain rationale. That’s something you can talk about with the whole class as part of the norms discussion, but when a student misbehaves we don’t want it to interrupt the class. What would a response that’s not succinct look like?   Why are the succinct examples better than the non-succinct example you just gave?   Exactly. It should be short and direct, but not angry or mean. You can smile, use a positive tone, and say please to help convey respect and care.   Now I want you to actually practice redirecting a student. I will pretend to be an off-task student. I want you to give a succinct redirection that tells me what to stop doing or start doing. Ok?   Why don’t you start by pretending to teach the lesson?  That was great. You told me exactly what you wanted to see. For the next session, you can also try to use some non-verbal signals so that you’re not saying “stop” every single time. I’m so excited to see you give succinct redirections in the next session!  ',\n",
       " 'Classroom Management Model C2.docx': 'How are you feeling about that first simulation?   That’s totally fine! It’s just practice. Let’s use this time to get you feeling prepared for your second attempt.   One thing that made me so excited is that I saw you giving really specific redirections to students when they misbehaved. This is really important because it ensures that your directions are clear so that students understand what they need to do to meet them and were not confused.  To make your next simulation even stronger, I want you to focus on making your redirections as succinct as possible so that they don’t take time away from the class discussion.     For example, I noticed in your last simulation that you told Ethan to behave a certain way. While this statement is specific, it takes a lot of time away from class because it’s wordy. Next time Ethan whispers I want you to redirect them in as few words as possible. For example, you could use a nonverbal signal or simply say “Ethan, stop whispering”. Then you can go back to the class discussion  Let’s look at another example. When Ethan misbehaves how could you respond succinctly?   Exactly, that’s great. Remember, you don’t need to explain rationale. That’s something you can talk about with the whole class as part of the norms discussion, but when a student misbehaves we don’t want it to interrupt the class. What would a response that’s not succinct look like?   Why are the succinct examples better than the non-succinct example you just gave?   Exactly. It should be short and direct, but not angry or mean. You can smile, use a positive tone, and say please to help convey respect and care.   Now I want you to actually practice redirecting a student. I will pretend to be an off-task student. I want you to give a succinct redirection that tells me what to stop doing or start doing. Ok?   Why don’t you start by pretending to teach the lesson?  That was great. You told me exactly what you wanted to see. For the next session, you can also try to use some non-verbal signals so that you’re not saying “stop” every single time. I’m so excited to see you give succinct redirections in the next session!  ',\n",
       " 'Classroom Management Model B4.docx': 'How are you feeling about that first simulation?   Great! Hopefully we can get you feeling even more ready for the next one.   One thing that made me so excited is that I saw you responding to students’ misbehaviors as soon as those behaviors began. This is really important because it helps you stop the behavior quickly so that it doesn’t get worse, distract other students, or take time away from class.   To make your next simulation even stronger, I want you to focus on making your redirections more specific so that students know exactly what you want them to stop doing or start doing. This helps us make sure that students aren’t confused.     For example, I noticed in your last simulation that you told Ethan to behave a certain way. The words behave a certain way can be confusing because it can mean different things for different people and you can’t see if a student is following those directions. Next time avatar misbehaves I want you to tell them exactly what you want to see. For example, you could say: avatar, voice off, hands together.   Let’s look at another example. When Ethan is texting how could you respond to tell them exactly what to do?   Exactly, that’s great. You could also use a non-verbal signal like this. What would a response that’s not specific look like?   Why are the specific examples better than the non-specific example you just gave?   Exactly. It should be direct, but not angry or mean. You can smile, use a positive tone, and say please to help convey respect and care. But we want it to be a statement and not a question so that you convey authority and it is clear what students need to do.   Now I want you to actually practice redirecting a student. I will pretend to be an off-task student. I want you to give a specific redirection that tells me what to stop doing or start doing. Ok?   Why don’t you start by pretending to teach the lesson?  That was great. You told me exactly what you wanted to see. For the next session, try to say it as an instruction instead of as a question so that there is no room for the student to be confused about whether they have to listen to you or not. I’m so excited to see you give specific redirections in the next session! ',\n",
       " 'Classroom Management Model A2.docx': 'How are you feeling about that first simulation?   That’s totally fine! It’s just practice. Let’s use this time to get you feeling prepared for your second attempt.  One thing that made me so excited is that I saw you noticed every time a student misbehaved. That is so important because it shows me that you already have the lens to recognize misbehavior as soon as it begins.   To make your next simulation even stronger, I want you to focus on making your redirections more timely so that you can address the misbehavior right away. This prevents the misbehaviors from distracting other students and taking away from class time.   For example, I noticed in your last simulation that you were hesitant to correct Ethan’s behavior. Next time Ethan is whispering I want you to immediately redirect the behavior. For example, you could say: Ethan voice off.   Let’s look at another example. When an avatar misbehaves how could you respond immediately to redirect the behavior?  Exactly, that’s great. You could also say please stop talking. What would a response that’s not timely look like?  Why is the first response better than ignoring the behavior?  Exactly. Now I want you to actually practice redirecting a student. I will pretend to be an off-task student. I want you to redirect my behavior immediately. Ok?  Why don’t you start by pretending to teach the lesson?  That was great. You addressed my behavior right away. For the next session, you could try telling the student what to do instead of what not to do. Both strategies work because they make your expectations for student behavior clear. I’m so excited to see you redirect student behavior immediately in the next session!  ',\n",
       " 'Classroom Management Model D5.docx': 'How are you feeling about that first simulation?  Great! Hopefully we can get you feeling even more ready for the next one.   One thing that made me so excited is that I saw you responding to students’ misbehaviors immediately with a very specific and succinct redirection. This is really important because it helps you stop the behavior quickly so that it doesn’t get worse, distract other students, or take time away from class. And because it was specific students knew exactly what to do.   To make your next simulation even stronger, I want you to focus on having a calm and positive demeanor when redirecting students. This is important because we want to balance being authoritative with being caring. We want students to follow our directions but we never want to make them feel scared or embarrassed in the process. We want them to feel that we as the teacher respect and care about them.   For example, I noticed in your last simulation that when you told Ethan to behave a certain way you used a slightly negative tone of voice and had a slightly negative expression on your face. This is totally understandable because it can be really stressful to lead a discussion while students are misbehaving. In those situations, it can be really helpful to use a nonverbal signal to redirect student behavior so that you don’t have to worry about controlling your tone of voice. It also gives you a minute to calm yourself down. Then you can smile afterwards and continue with the discussion.  Let’s look at another example. When Ethan sings how could you respond with a calm demeanor?  Exactly, that’s great. You could also this signal. What would a response that’s not calm look like?  Why are the calm examples better than the non-calm example you just gave?  Exactly. Now I want you to actually practice redirecting a student. I will pretend to be an off-task student. I want you to give a calm non-verbal redirection that tells me what to stop doing or start doing. Ok?  Why don’t you start by pretending to teach the lesson?  That was great. You conveyed everything you needed to with a non-verbal signal and then smiled and continued with the discussion. For the next session, think about how you can adapt the signal for each different misbehavior so that you don’t just use this one every time. I’m so excited to see you give calm redirections in the next session!    ',\n",
       " 'Classroom Management Model D4.docx': 'How are you feeling about that first simulation?  Great! Hopefully we can get you feeling even more ready for the next one.   One thing that made me so excited is that I saw you responding to students’ misbehaviors immediately with a very specific and succinct redirection. This is really important because it helps you stop the behavior quickly so that it doesn’t get worse, distract other students, or take time away from class. And because it was specific students knew exactly what to do.   To make your next simulation even stronger, I want you to focus on having a calm and positive demeanor when redirecting students. This is important because we want to balance being authoritative with being caring. We want students to follow our directions but we never want to make them feel scared or embarrassed in the process. We want them to feel that we as the teacher respect and care about them.   For example, I noticed in your last simulation that when you told Ethan to behave a certain way you used a slightly negative tone of voice and had a slightly negative expression on your face. This is totally understandable because it can be really stressful to lead a discussion while students are misbehaving. In those situations, it can be really helpful to use a nonverbal signal to redirect student behavior so that you don’t have to worry about controlling your tone of voice. It also gives you a minute to calm yourself down. Then you can smile afterwards and continue with the discussion.  Let’s look at another example. When Ethan texts how could you respond with a calm demeanor?  Exactly, that’s great. You could also this signal. What would a response that’s not calm look like?  Why are the calm examples better than the non-calm example you just gave?  Exactly. Now I want you to actually practice redirecting a student. I will pretend to be an off-task student. I want you to give a calm non-verbal redirection that tells me what to stop doing or start doing. Ok?  Why don’t you start by pretending to teach the lesson?  That was great. You conveyed everything you needed to with a non-verbal signal and then smiled and continued with the discussion. For the next session, think about how you can adapt the signal for each different misbehavior so that you don’t just use this one every time. I’m so excited to see you give calm redirections in the next session!    ',\n",
       " 'Classroom Management Model A3.docx': 'How are you feeling about that first simulation?   That’s totally fine! It’s just practice. Let’s use this time to get you feeling prepared for your second attempt.  One thing that made me so excited is that I saw you noticed every time a student misbehaved. That is so important because it shows me that you already have the lens to recognize misbehavior as soon as it begins.   To make your next simulation even stronger, I want you to focus on making your redirections more timely so that you can address the misbehavior right away. This prevents the misbehaviors from distracting other students and taking away from class time.   For example, I noticed in your last simulation that you were hesitant to correct Ethan’s behavior. Next time Ethan beatboxes I want you to immediately redirect the behavior. For example, you could say: Ethan voice off.   Let’s look at another example. When an avatar misbehaves how could you respond immediately to redirect the behavior?  Exactly, that’s great. You could also say please stop talking. What would a response that’s not timely look like?  Why is the first response better than ignoring the behavior?  Exactly. Now I want you to actually practice redirecting a student. I will pretend to be an off-task student. I want you to redirect my behavior immediately. Ok?  Why don’t you start by pretending to teach the lesson?  That was great. You addressed my behavior right away. For the next session, you could try telling the student what to do instead of what not to do. Both strategies work because they make your expectations for student behavior clear. I’m so excited to see you redirect student behavior immediately in the next session!  ',\n",
       " 'Classroom Management Model B5.docx': 'How are you feeling about that first simulation?   Great! Hopefully we can get you feeling even more ready for the next one.   One thing that made me so excited is that I saw you responding to students’ misbehaviors as soon as those behaviors began. This is really important because it helps you stop the behavior quickly so that it doesn’t get worse, distract other students, or take time away from class.   To make your next simulation even stronger, I want you to focus on making your redirections more specific so that students know exactly what you want them to stop doing or start doing. This helps us make sure that students aren’t confused.     For example, I noticed in your last simulation that you told Ethan to behave a certain way. The words behave a certain way can be confusing because it can mean different things for different people and you can’t see if a student is following those directions. Next time Ethan is singing I want you to tell them exactly what you want to see. For example, you could say: avatar, voice off, hands together.   Let’s look at another example. When Ethan misbehaves how could you respond to tell them exactly what to do?   Exactly, that’s great. You could also use a non-verbal signal like this. What would a response that’s not specific look like?   Why are the specific examples better than the non-specific example you just gave?   Exactly. It should be direct, but not angry or mean. You can smile, use a positive tone, and say please to help convey respect and care. But we want it to be a statement and not a question so that you convey authority and it is clear what students need to do.   Now I want you to actually practice redirecting a student. I will pretend to be an off-task student. I want you to give a specific redirection that tells me what to stop doing or start doing. Ok?   Why don’t you start by pretending to teach the lesson?  That was great. You told me exactly what you wanted to see. For the next session, try to say it as an instruction instead of as a question so that there is no room for the student to be confused about whether they have to listen to you or not. I’m so excited to see you give specific redirections in the next session! ',\n",
       " 'Classroom Management Model C3.docx': 'How are you feeling about that first simulation?   That’s totally fine! It’s just practice. Let’s use this time to get you feeling prepared for your second attempt.   One thing that made me so excited is that I saw you giving really specific redirections to students when they misbehaved. This is really important because it ensures that your directions are clear so that students understand what they need to do to meet them and were not confused.  To make your next simulation even stronger, I want you to focus on making your redirections as succinct as possible so that they don’t take time away from the class discussion.     For example, I noticed in your last simulation that you told Ethan to behave a certain way. While this statement is specific, it takes a lot of time away from class because it’s wordy. Next time Ethan beatboxes I want you to redirect them in as few words as possible. For example, you could use a nonverbal signal or simply say “Ethan, stop beatboxes”. Then you can go back to the class discussion  Let’s look at another example. When Ethan misbehaves how could you respond succinctly?   Exactly, that’s great. Remember, you don’t need to explain rationale. That’s something you can talk about with the whole class as part of the norms discussion, but when a student misbehaves we don’t want it to interrupt the class. What would a response that’s not succinct look like?   Why are the succinct examples better than the non-succinct example you just gave?   Exactly. It should be short and direct, but not angry or mean. You can smile, use a positive tone, and say please to help convey respect and care.   Now I want you to actually practice redirecting a student. I will pretend to be an off-task student. I want you to give a succinct redirection that tells me what to stop doing or start doing. Ok?   Why don’t you start by pretending to teach the lesson?  That was great. You told me exactly what you wanted to see. For the next session, you can also try to use some non-verbal signals so that you’re not saying “stop” every single time. I’m so excited to see you give succinct redirections in the next session!  ',\n",
       " 'Classroom Management Model A4.docx': 'How are you feeling about that first simulation?   That’s totally fine! It’s just practice. Let’s use this time to get you feeling prepared for your second attempt.  One thing that made me so excited is that I saw you noticed every time a student misbehaved. That is so important because it shows me that you already have the lens to recognize misbehavior as soon as it begins.   To make your next simulation even stronger, I want you to focus on making your redirections more timely so that you can address the misbehavior right away. This prevents the misbehaviors from distracting other students and taking away from class time.   For example, I noticed in your last simulation that you were hesitant to correct Ethan’s behavior. Next time Ethan texts I want you to immediately redirect the behavior. For example, you could say: Ethan phone off.   Let’s look at another example. When an avatar misbehaves how could you respond immediately to redirect the behavior?  Exactly, that’s great. You could also say please stop talking. What would a response that’s not timely look like?  Why is the first response better than ignoring the behavior?  Exactly. Now I want you to actually practice redirecting a student. I will pretend to be an off-task student. I want you to redirect my behavior immediately. Ok?  Why don’t you start by pretending to teach the lesson?  That was great. You addressed my behavior right away. For the next session, you could try telling the student what to do instead of what not to do. Both strategies work because they make your expectations for student behavior clear. I’m so excited to see you redirect student behavior immediately in the next session!  ',\n",
       " 'Classroom Management Model D3.docx': 'How are you feeling about that first simulation?  Great! Hopefully we can get you feeling even more ready for the next one.   One thing that made me so excited is that I saw you responding to students’ misbehaviors immediately with a very specific and succinct redirection. This is really important because it helps you stop the behavior quickly so that it doesn’t get worse, distract other students, or take time away from class. And because it was specific students knew exactly what to do.   To make your next simulation even stronger, I want you to focus on having a calm and positive demeanor when redirecting students. This is important because we want to balance being authoritative with being caring. We want students to follow our directions but we never want to make them feel scared or embarrassed in the process. We want them to feel that we as the teacher respect and care about them.   For example, I noticed in your last simulation that when you told Ethan to behave a certain way you used a slightly negative tone of voice and had a slightly negative expression on your face. This is totally understandable because it can be really stressful to lead a discussion while students are misbehaving. In those situations, it can be really helpful to use a nonverbal signal to redirect student behavior so that you don’t have to worry about controlling your tone of voice. It also gives you a minute to calm yourself down. Then you can smile afterwards and continue with the discussion.  Let’s look at another example. When Ethan beatboxes how could you respond with a calm demeanor?  Exactly, that’s great. You could also this signal. What would a response that’s not calm look like?  Why are the calm examples better than the non-calm example you just gave?  Exactly. Now I want you to actually practice redirecting a student. I will pretend to be an off-task student. I want you to give a calm non-verbal redirection that tells me what to stop doing or start doing. Ok?  Why don’t you start by pretending to teach the lesson?  That was great. You conveyed everything you needed to with a non-verbal signal and then smiled and continued with the discussion. For the next session, think about how you can adapt the signal for each different misbehavior so that you don’t just use this one every time. I’m so excited to see you give calm redirections in the next session!    ',\n",
       " 'Classroom Management Model C4.docx': 'How are you feeling about that first simulation?   That’s totally fine! It’s just practice. Let’s use this time to get you feeling prepared for your second attempt.   One thing that made me so excited is that I saw you giving really specific redirections to students when they misbehaved. This is really important because it ensures that your directions are clear so that students understand what they need to do to meet them and were not confused.  To make your next simulation even stronger, I want you to focus on making your redirections as succinct as possible so that they don’t take time away from the class discussion.     For example, I noticed in your last simulation that you told Ethan to behave a certain way. While this statement is specific, it takes a lot of time away from class because it’s wordy. Next time Ethan texts I want you to redirect them in as few words as possible. For example, you could use a nonverbal signal or simply say “Ethan, stop texting”. Then you can go back to the class discussion  Let’s look at another example. When Ethan misbehaves how could you respond succinctly?   Exactly, that’s great. Remember, you don’t need to explain rationale. That’s something you can talk about with the whole class as part of the norms discussion, but when a student misbehaves we don’t want it to interrupt the class. What would a response that’s not succinct look like?   Why are the succinct examples better than the non-succinct example you just gave?   Exactly. It should be short and direct, but not angry or mean. You can smile, use a positive tone, and say please to help convey respect and care.   Now I want you to actually practice redirecting a student. I will pretend to be an off-task student. I want you to give a succinct redirection that tells me what to stop doing or start doing. Ok?   Why don’t you start by pretending to teach the lesson?  That was great. You told me exactly what you wanted to see. For the next session, you can also try to use some non-verbal signals so that you’re not saying “stop” every single time. I’m so excited to see you give succinct redirections in the next session!  ',\n",
       " 'Classroom Management Model B2.docx': 'How are you feeling about that first simulation?   Great! Hopefully we can get you feeling even more ready for the next one.   One thing that made me so excited is that I saw you responding to students’ misbehaviors as soon as those behaviors began. This is really important because it helps you stop the behavior quickly so that it doesn’t get worse, distract other students, or take time away from class.   To make your next simulation even stronger, I want you to focus on making your redirections more specific so that students know exactly what you want them to stop doing or start doing. This helps us make sure that students aren’t confused.     For example, I noticed in your last simulation that you told Ethan to behave a certain way. The words behave a certain way can be confusing because it can mean different things for different people and you can’t see if a student is following those directions. Next time avatar misbehaves I want you to tell them exactly what you want to see. For example, you could say: avatar, voice off, hands together.   Let’s look at another example. When Ethan whispers how could you respond to tell them exactly what to do?   Exactly, that’s great. You could also use a non-verbal signal like this. What would a response that’s not specific look like?   Why are the specific examples better than the non-specific example you just gave?   Exactly. It should be direct, but not angry or mean. You can smile, use a positive tone, and say please to help convey respect and care. But we want it to be a statement and not a question so that you convey authority and it is clear what students need to do.   Now I want you to actually practice redirecting a student. I will pretend to be an off-task student. I want you to give a specific redirection that tells me what to stop doing or start doing. Ok?   Why don’t you start by pretending to teach the lesson?  That was great. You told me exactly what you wanted to see. For the next session, try to say it as an instruction instead of as a question so that there is no room for the student to be confused about whether they have to listen to you or not. I’m so excited to see you give specific redirections in the next session! ',\n",
       " 'Classroom Management Model B3.docx': 'How are you feeling about that first simulation?   Great! Hopefully we can get you feeling even more ready for the next one.   One thing that made me so excited is that I saw you responding to students’ misbehaviors as soon as those behaviors began. This is really important because it helps you stop the behavior quickly so that it doesn’t get worse, distract other students, or take time away from class.   To make your next simulation even stronger, I want you to focus on making your redirections more specific so that students know exactly what you want them to stop doing or start doing. This helps us make sure that students aren’t confused.     For example, I noticed in your last simulation that you told Ethan to behave a certain way. The words behave a certain way can be confusing because it can mean different things for different people and you can’t see if a student is following those directions. Next time avatar misbehaves I want you to tell them exactly what you want to see. For example, you could say: avatar, voice off, hands together.   Let’s look at another example. When Ethan beatboxes, how could you respond to tell them exactly what to do?   Exactly, that’s great. You could also use a non-verbal signal like this. What would a response that’s not specific look like?   Why are the specific examples better than the non-specific example you just gave?   Exactly. It should be direct, but not angry or mean. You can smile, use a positive tone, and say please to help convey respect and care. But we want it to be a statement and not a question so that you convey authority and it is clear what students need to do.   Now I want you to actually practice redirecting a student. I will pretend to be an off-task student. I want you to give a specific redirection that tells me what to stop doing or start doing. Ok?   Why don’t you start by pretending to teach the lesson?  That was great. You told me exactly what you wanted to see. For the next session, try to say it as an instruction instead of as a question so that there is no room for the student to be confused about whether they have to listen to you or not. I’m so excited to see you give specific redirections in the next session! ',\n",
       " 'Classroom Management Model C5.docx': 'How are you feeling about that first simulation?   That’s totally fine! It’s just practice. Let’s use this time to get you feeling prepared for your second attempt.   One thing that made me so excited is that I saw you giving really specific redirections to students when they misbehaved. This is really important because it ensures that your directions are clear so that students understand what they need to do to meet them and were not confused.  To make your next simulation even stronger, I want you to focus on making your redirections as succinct as possible so that they don’t take time away from the class discussion.     For example, I noticed in your last simulation that you told Ethan to behave a certain way. While this statement is specific, it takes a lot of time away from class because it’s wordy. Next time Ethan is singing I want you to redirect them in as few words as possible. For example, you could use a nonverbal signal or simply say “Ethan, stop singing”. Then you can go back to the class discussion  Let’s look at another example. When Ethan misbehaves how could you respond succinctly?   Exactly, that’s great. Remember, you don’t need to explain rationale. That’s something you can talk about with the whole class as part of the norms discussion, but when a student misbehaves we don’t want it to interrupt the class. What would a response that’s not succinct look like?   Why are the succinct examples better than the non-succinct example you just gave?   Exactly. It should be short and direct, but not angry or mean. You can smile, use a positive tone, and say please to help convey respect and care.   Now I want you to actually practice redirecting a student. I will pretend to be an off-task student. I want you to give a succinct redirection that tells me what to stop doing or start doing. Ok?   Why don’t you start by pretending to teach the lesson?  That was great. You told me exactly what you wanted to see. For the next session, you can also try to use some non-verbal signals so that you’re not saying “stop” every single time. I’m so excited to see you give succinct redirections in the next session!  ',\n",
       " 'Classroom Management Model D2.docx': 'How are you feeling about that first simulation?  Great! Hopefully we can get you feeling even more ready for the next one.   One thing that made me so excited is that I saw you responding to students’ misbehaviors immediately with a very specific and succinct redirection. This is really important because it helps you stop the behavior quickly so that it doesn’t get worse, distract other students, or take time away from class. And because it was specific students knew exactly what to do.   To make your next simulation even stronger, I want you to focus on having a calm and positive demeanor when redirecting students. This is important because we want to balance being authoritative with being caring. We want students to follow our directions but we never want to make them feel scared or embarrassed in the process. We want them to feel that we as the teacher respect and care about them.   For example, I noticed in your last simulation that when you told Ethan to stop whispering you used a slightly negative tone of voice and had a slightly negative expression on your face. This is totally understandable because it can be really stressful to lead a discussion while students are misbehaving. In those situations, it can be really helpful to use a nonverbal signal to redirect student behavior so that you don’t have to worry about controlling your tone of voice. It also gives you a minute to calm yourself down. Then you can smile afterwards and continue with the discussion.  Let’s look at another example. When Ethan misbehaves how could you respond with a calm demeanor?  Exactly, that’s great. You could also this signal. What would a response that’s not calm look like?  Why are the calm examples better than the non-calm example you just gave?  Exactly. Now I want you to actually practice redirecting a student. I will pretend to be an off-task student. I want you to give a calm non-verbal redirection that tells me what to stop doing or start doing. Ok?  Why don’t you start by pretending to teach the lesson?  That was great. You conveyed everything you needed to with a non-verbal signal and then smiled and continued with the discussion. For the next session, think about how you can adapt the signal for each different misbehavior so that you don’t just use this one every time. I’m so excited to see you give calm redirections in the next session!    ',\n",
       " 'Classroom Management Model A5.docx': 'How are you feeling about that first simulation?   That’s totally fine! It’s just practice. Let’s use this time to get you feeling prepared for your second attempt.  One thing that made me so excited is that I saw you noticed every time a student misbehaved. That is so important because it shows me that you already have the lens to recognize misbehavior as soon as it begins.   To make your next simulation even stronger, I want you to focus on making your redirections more timely so that you can address the misbehavior right away. This prevents the misbehaviors from distracting other students and taking away from class time.   For example, I noticed in your last simulation that you were hesitant to correct Ethan’s behavior. Next time Ethan sings I want you to immediately redirect the behavior. For example, you could say: Ethan voice off.   Let’s look at another example. When an avatar misbehaves how could you respond immediately to redirect the behavior?  Exactly, that’s great. You could also say please stop talking. What would a response that’s not timely look like?  Why is the first response better than ignoring the behavior?  Exactly. Now I want you to actually practice redirecting a student. I will pretend to be an off-task student. I want you to redirect my behavior immediately. Ok?  Why don’t you start by pretending to teach the lesson?  That was great. You addressed my behavior right away. For the next session, you could try telling the student what to do instead of what not to do. Both strategies work because they make your expectations for student behavior clear. I’m so excited to see you redirect student behavior immediately in the next session!  '}"
      ]
     },
     "execution_count": 4,
     "metadata": {},
     "output_type": "execute_result"
    }
   ],
   "source": [
    "ideal_behavior_dict = make_text_dict(ideal_filepath, 'Classroom Management Model*')\n",
    "ideal_behavior_dict"
   ]
  },
  {
   "cell_type": "code",
   "execution_count": 5,
   "metadata": {},
   "outputs": [],
   "source": [
    "ideal_feedback_dict = make_text_dict(ideal_filepath, 'Feedback Model*')"
   ]
  },
  {
   "cell_type": "code",
   "execution_count": 6,
   "metadata": {},
   "outputs": [],
   "source": [
    "def create_df(textdict, scenario):\n",
    "    df = pd.DataFrame.from_dict(data = textdict, orient = 'index').reset_index()\n",
    "    df = df.rename({'index': 'doc', 0: 'text'}, axis = 'columns')\n",
    "    df['scenario'] = scenario\n",
    "    df = df.set_index('doc')\n",
    "    return df\n",
    "ideal_feedback = create_df(ideal_feedback_dict, 'feedback')\n",
    "ideal_behavior = create_df(ideal_behavior_dict,'behavior')"
   ]
  },
  {
   "cell_type": "code",
   "execution_count": 7,
   "metadata": {},
   "outputs": [
    {
     "data": {
      "text/html": [
       "<div>\n",
       "<style scoped>\n",
       "    .dataframe tbody tr th:only-of-type {\n",
       "        vertical-align: middle;\n",
       "    }\n",
       "\n",
       "    .dataframe tbody tr th {\n",
       "        vertical-align: top;\n",
       "    }\n",
       "\n",
       "    .dataframe thead th {\n",
       "        text-align: right;\n",
       "    }\n",
       "</style>\n",
       "<table border=\"1\" class=\"dataframe\">\n",
       "  <thead>\n",
       "    <tr style=\"text-align: right;\">\n",
       "      <th></th>\n",
       "      <th>text</th>\n",
       "      <th>scenario</th>\n",
       "    </tr>\n",
       "    <tr>\n",
       "      <th>doc</th>\n",
       "      <th></th>\n",
       "      <th></th>\n",
       "    </tr>\n",
       "  </thead>\n",
       "  <tbody>\n",
       "    <tr>\n",
       "      <th>Feedback Model C22.docx</th>\n",
       "      <td>Begin Transcript 3  How are you feeling about ...</td>\n",
       "      <td>feedback</td>\n",
       "    </tr>\n",
       "    <tr>\n",
       "      <th>Classroom Management Model A6.docx</th>\n",
       "      <td>How are you feeling about that first simulatio...</td>\n",
       "      <td>behavior</td>\n",
       "    </tr>\n",
       "    <tr>\n",
       "      <th>Feedback Model B22.docx</th>\n",
       "      <td>How are you feeling about that first simulati...</td>\n",
       "      <td>feedback</td>\n",
       "    </tr>\n",
       "    <tr>\n",
       "      <th>Classroom Management Model A4.docx</th>\n",
       "      <td>How are you feeling about that first simulatio...</td>\n",
       "      <td>behavior</td>\n",
       "    </tr>\n",
       "    <tr>\n",
       "      <th>Feedback Model C21.docx</th>\n",
       "      <td>Begin Transcript 3  How are you feeling about ...</td>\n",
       "      <td>feedback</td>\n",
       "    </tr>\n",
       "  </tbody>\n",
       "</table>\n",
       "</div>"
      ],
      "text/plain": [
       "                                                                                 text  \\\n",
       "doc                                                                                     \n",
       "Feedback Model C22.docx             Begin Transcript 3  How are you feeling about ...   \n",
       "Classroom Management Model A6.docx  How are you feeling about that first simulatio...   \n",
       "Feedback Model B22.docx              How are you feeling about that first simulati...   \n",
       "Classroom Management Model A4.docx  How are you feeling about that first simulatio...   \n",
       "Feedback Model C21.docx             Begin Transcript 3  How are you feeling about ...   \n",
       "\n",
       "                                    scenario  \n",
       "doc                                           \n",
       "Feedback Model C22.docx             feedback  \n",
       "Classroom Management Model A6.docx  behavior  \n",
       "Feedback Model B22.docx             feedback  \n",
       "Classroom Management Model A4.docx  behavior  \n",
       "Feedback Model C21.docx             feedback  "
      ]
     },
     "execution_count": 7,
     "metadata": {},
     "output_type": "execute_result"
    }
   ],
   "source": [
    "ideal_corpus_df = ideal_feedback.append(ideal_behavior)\n",
    "ideal_corpus_df.sample(5)"
   ]
  },
  {
   "cell_type": "markdown",
   "metadata": {},
   "source": [
    "# Send to CSV"
   ]
  },
  {
   "cell_type": "code",
   "execution_count": 8,
   "metadata": {},
   "outputs": [],
   "source": [
    "ideal_corpus_df.to_csv(clean_filepath + 'text_scripts.csv')"
   ]
  },
  {
   "cell_type": "code",
   "execution_count": null,
   "metadata": {},
   "outputs": [],
   "source": []
  }
 ],
 "metadata": {
  "kernelspec": {
   "display_name": "Python [conda env:spacy]",
   "language": "python",
   "name": "conda-env-spacy-py"
  },
  "language_info": {
   "codemirror_mode": {
    "name": "ipython",
    "version": 3
   },
   "file_extension": ".py",
   "mimetype": "text/x-python",
   "name": "python",
   "nbconvert_exporter": "python",
   "pygments_lexer": "ipython3",
   "version": "3.7.2"
  }
 },
 "nbformat": 4,
 "nbformat_minor": 2
}
