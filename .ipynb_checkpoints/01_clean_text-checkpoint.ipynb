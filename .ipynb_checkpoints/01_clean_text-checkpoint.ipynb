{
 "cells": [
  {
   "cell_type": "markdown",
   "metadata": {},
   "source": [
    "# Clean Text\n",
    "* Import Transcripts\n",
    "* Extract Coach Text\n",
    "* Remove Time Labels\n",
    "* Replace avatar names for key words?\n",
    "* Create transcript dataframe"
   ]
  },
  {
   "cell_type": "code",
   "execution_count": 1,
   "metadata": {},
   "outputs": [
    {
     "name": "stderr",
     "output_type": "stream",
     "text": [
      "/Users/kylieleblancKylie/anaconda/envs/spacy/lib/python3.7/site-packages/sklearn/model_selection/_split.py:18: DeprecationWarning: Using or importing the ABCs from 'collections' instead of from 'collections.abc' is deprecated, and in 3.8 it will stop working\n",
      "  from collections import Iterable\n"
     ]
    }
   ],
   "source": [
    "import docx\n",
    "import os\n",
    "import nltk\n",
    "import re\n",
    "from nltk import sent_tokenize, word_tokenize\n",
    "import pandas as pd\n",
    "\n",
    "from nltk import WordNetLemmatizer \n",
    "import operator\n",
    "\n",
    "import fnmatch\n",
    "\n",
    "import statistics\n",
    "lemmatizer = WordNetLemmatizer() \n",
    "\n",
    "from sklearn.feature_extraction.text import TfidfVectorizer\n",
    "\n",
    "from collections import Counter\n",
    "from sklearn.feature_extraction.text import CountVectorizer\n",
    "from sklearn.metrics.pairwise import cosine_similarity\n",
    "from scipy import spatial\n",
    "from sklearn import metrics"
   ]
  },
  {
   "cell_type": "code",
   "execution_count": 2,
   "metadata": {},
   "outputs": [],
   "source": [
    "fall2017_filepath = '/Users/kylieleblancKylie/domino/docsim/data/fall_2017/coaching/'\n",
    "fall2018_filepath = '/Users/kylieleblancKylie/domino/docsim/data/fall_2018/coaching/'\n",
    "spring2018_filepath = '/Users/kylieleblancKylie/domino/docsim/data/spring_2018/coaching/'\n",
    "spring2019_filepath = '/Users/kylieleblancKylie/domino/docsim/data/spring_2019/coaching/'\n",
    "fall2019_filepath = \"/Users/kylieleblancKylie/domino/docsim/data/fall_2019_TAP/coaching/\"\n",
    "clean_filepath = \"/Users/kylieleblancKylie/domino/docsim/data/clean/\""
   ]
  },
  {
   "cell_type": "markdown",
   "metadata": {},
   "source": [
    "# Extract Text from Documents"
   ]
  },
  {
   "cell_type": "code",
   "execution_count": 3,
   "metadata": {},
   "outputs": [],
   "source": [
    "def make_text_dict(filepath, pattern):\n",
    "    os.chdir(filepath)\n",
    "    doc_text = {}\n",
    "    for file in os.listdir():\n",
    "        if fnmatch.fnmatch(file, pattern):\n",
    "            doc_text[file] = getCoachText(filepath + file)\n",
    "    return doc_text\n",
    "\n",
    "def getCoachText(filename):\n",
    "    doc = docx.Document(filename)\n",
    "    fullText = []\n",
    "    for para in doc.paragraphs:\n",
    "        if len(para.text) > 5:\n",
    "            new_text = replace_alt_words_for_coach(para.text)\n",
    "            if new_text[0:6] == 'Coach:' or new_text[11:17] == 'Coach:':\n",
    "                new_text = drop_labels(new_text)\n",
    "                new_text = fix_typos(new_text)\n",
    "                fullText.append(new_text)\n",
    "    new_text = ' '.join(fullText)\n",
    "    #new_text = new_text.replace('\\\\n','')\n",
    "    return new_text\n",
    "\n",
    "def replace_alt_words_for_coach(string):\n",
    "    new_text = string.replace('Instructor:', 'Coach:')\n",
    "    new_text = new_text.replace('Tutor:', 'Coach:')\n",
    "    new_text = new_text.replace('Interviewer:', 'Coach:')\n",
    "    new_text = new_text.replace('Interviewer:', 'Coach:')\n",
    "    new_text = new_text.replace('COACH:', 'Coach:')\n",
    "    new_text = new_text.replace('Interviewer:', 'Coach:')\n",
    "    new_text = new_text.replace('Announcer:', 'Coach:')\n",
    "    new_text = new_text.replace('Female Speaker:', 'Coach:')\n",
    "    new_text = new_text.replace('Male Speaker:', 'Coach:')\n",
    "    new_text = new_text.replace('Arielle:', 'Coach:')\n",
    "    new_text = new_text.replace('Mike Grille:', 'Coach:')\n",
    "    new_text = new_text.replace('Rosalie:', 'Coach:')\n",
    "    new_text = new_text.replace('Moderator:', 'Coach:')\n",
    "    new_text = new_text.replace('Anna Myers:', 'Coach:')\n",
    "    return new_text\n",
    "\n",
    "def drop_labels(string):\n",
    "    new_text = string.replace('\\\\n','')\n",
    "    new_text = re.sub(r'\\[(.*?)\\]', '', new_text)\n",
    "    new_text = re.sub(r'([a-zA-Z]+)\\:', '', new_text)\n",
    "    return new_text\n",
    "\n",
    "def fix_typos(string):\n",
    "    new_text = string.replace('00:00:11]', '')\n",
    "    new_text = new_text.replace('Dave', 'Dev')\n",
    "    return new_text"
   ]
  },
  {
   "cell_type": "code",
   "execution_count": 4,
   "metadata": {},
   "outputs": [],
   "source": [
    "fall2017_dict = make_text_dict(fall2017_filepath, '*Transcript*')\n",
    "spring2018_dict = make_text_dict(spring2018_filepath, '*docx')\n",
    "fall2018_dict = make_text_dict(fall2018_filepath, '2018*docx')\n",
    "spring2019_dict = make_text_dict(spring2019_filepath, '2019*')\n",
    "fall2019_dict = make_text_dict(fall2019_filepath, '*Transcript.docx')"
   ]
  },
  {
   "cell_type": "code",
   "execution_count": 5,
   "metadata": {},
   "outputs": [
    {
     "data": {
      "text/plain": [
       "'   I have to set a little timer for us here.  Okay, we’re going to work on some strategies for the simulation for the next five minutes.  This is Mike   coaching session for William Sweet.  So, let’s start.  What did you think?  How do you feel about it?      Right.  What was challenging about it?     Yeah, that’s tough. .    So, well, what you did a good job of was that you are able to like you identified the behaviors quickly and you were talking to the students about what they should have been doing, right?  So as soon as their misbehavior began you would address it you would talk to Dev or Ethan, and you moved to redirect them, which is the important first step.  But this time what I want us to focus on is making your redirections a little bit more specific, right?  So, let me give you an example of what I mean by that.  So, for example, when you were talking to Ethan about beatboxing, right?  And this is just for that simulation, so Ethan, that’s not very respectful, we want to set rules so everyone can get along.  Ethan, could you please quiet down for me?  And then Ethan responded”I could”, right?  So, what do you think that indicates that Ethan response there?  Any ideas?     Right, right, exactly.  And the other idea is this idea of like, respect, right?  Like this is your first day in the classroom, right?  So, you’re setting up these norms, you have an idea of what it means to be respectful but these students might not have that idea, right?  That’s part of this established thing.  So when I say specific, you’re definitely on the right track there with like the directive, it’s you need to give the students directives that it’s very clear what it means to comply with that directive, right?  So, even editing that, like, could you please quiet down for me?  You might say, Ethan, voice off, hands in front of you and turn back and continue.  Right?  And of course, you can still say thank you Ethan I appreciate it, right?  Like moving on from there and to bring that up, do you remember the time from the simulation when Ethan did comply?     Because you had a solid one. When you asked Ethan to put his phone away, right?  It was super clear, you said, well, there’s a little bit of push back-     And he said,   But then you said will you please put your phone away.  So the next time the student is, let’s say, humming in the background, I’ll do this.  I’m going to act like I’m a student and then practice directing me what you might say.     Please stop.  Yeah, please stop humming and make sure you include that like, what they should be doing, right?  You need to ask them to do such a thing that like you can see that they’re complying with you, right?  So, what do you think of like that tip from me?  Like why might that specific redirection be better than getting into this conversation with a student about what respect might look like?     Absolutely.  And it’s about it.  And I also think it’s about like a confidence thing, right?  Like you’re\\xa0the teacher walking into this room, you know, you need to have this two to three, norm generative conversation and it’s okay to say like, Ethan, stop humming.  Thank you.  Like, we have things that need to get done today.  Okay, absolutely.  Okay.  I’m excited to see you give it a shot.  Do you have any questions for me before we try it again?     All right.  Great work. '"
      ]
     },
     "execution_count": 5,
     "metadata": {},
     "output_type": "execute_result"
    }
   ],
   "source": [
    "fall2019_dict['01_1920_05_031_22c_Transcript.docx']"
   ]
  },
  {
   "cell_type": "code",
   "execution_count": 6,
   "metadata": {},
   "outputs": [
    {
     "data": {
      "text/plain": [
       "'   But I’d love to hear from you how felt the simulation went.     Let’s put aside the peer interaction right now, and focus on what you mentioned before about responding to their answers and specifically what I want you to focus on--first thing I want to say actually is that you did really well and you especially did well making sure that they were having to answer with text evidence in mind and that you give praise when a student did use some evidence. So that’s awesome. That’s like the first thing that we want to make sure that we can do in responding to student answers.  So, keep doing that.     And what I want you to work on is actually using that ability where you’re already pushing students to get text evident to help make sure that students who maybe don’t have a very strong answers, give stronger answers.      Specifically in this case there were two instances where the student answers were not really correct, and so at the end they kind of walked away those student might not know that their answer are not correct.  And I want to make sure that you can correct those answers.     So, how can you do that, if the student has an incorrect answer? .    Oh okay.  So that’s—well let’s back track and talk about the answers.      Okay. So, are there any that struck you as potentially not right answers?     Yeah.  And I know what you mean, like they’re kind of opinion questions.      There is not necessarily one right answer.  But there can be many right answers and still some wrong answers.  So, the excitement answer is incorrect because she is just in the context of that question, when he’s talking about the lie detector results.  He has just brought up the lie detector and we as the audience know that she lied, that those results are false.  So, we can infer that she must be nervous that he got it wrong—that he’ll find out rather, sorry.  And there is no reason that we can give that she would be excited in that moment when he is asking her about the lie detector results.  Does that make sense?     Okay.  So, that’s that one. And then the other one that I saw misunderstanding was um when this student says Lisa is the student intern. That she has been  .    Yeah.  And that one is wrong because she is not, she is pretending right.     So, that student may know that or may not know that, so you have to make sure that they are able to say, oh, she is not really the intern because XYZ.  So, let’s practice with one of those so I will pretend to be the student and I want you to attempt to respond so that I can—well why would you need to respond if I give an incorrect answer?     Yeah, exactly.  Okay, so let’s do that second one. Um, I think that Lisa is the new student intern.  It says in the text right here.     Well, it’s in like the very first sentence I think or the first paragraph, at least.      Um her lie detector results--it says that they were 100 % they were all--that she said everything correctly.     Oh.     I don’t know.     Yeah, that’s great –     Yeah, yeah, yeah. I mean you   and you had a bunch of follow up questions that when I got stuck or didn’t quite know, you could help me find it, but without actually giving me the answer, which is awesome. The other piece that evidence that I want to just point you to so you have it in your back pocket is, um, “if Pismo was so smart would he be able to tell who she really was? Which directly shows at the beginning that she is not actually the student intern.     Great. How are you feeling about it?     Okay, no questions about what it is that I’m asking you to do differently?     Okay, and so then remind me why what we just practiced would be a better response then just saying oh – yeah, good answer, and moving onto the next student.     Excellent, all right.  You got this. .'"
      ]
     },
     "execution_count": 6,
     "metadata": {},
     "output_type": "execute_result"
    }
   ],
   "source": [
    "fall2018_dict['2018_112_3C_Transcript.docx']"
   ]
  },
  {
   "cell_type": "markdown",
   "metadata": {},
   "source": [
    "## Create dataframe"
   ]
  },
  {
   "cell_type": "code",
   "execution_count": 7,
   "metadata": {},
   "outputs": [],
   "source": [
    "def create_df(textdict, year, semester, scenario):\n",
    "    df = pd.DataFrame.from_dict(data = textdict, orient = 'index').reset_index()\n",
    "    df = df.rename({'index': 'doc', 0: 'text'}, axis = 'columns')\n",
    "    df['year'] = year\n",
    "    df['semester'] = semester\n",
    "    df['scenario'] = scenario\n",
    "    df = df.set_index('doc')\n",
    "    return df\n",
    "fall2017 = create_df(fall2017_dict, '2017-18', 'fall', 'feedback')\n",
    "spring2018 = create_df(spring2018_dict, '2017-18', 'spring', 'behavior')\n",
    "fall2018 = create_df(fall2018_dict, '2018-19', 'fall', 'feedback')\n",
    "spring2019 = create_df(spring2019_dict, '2018-19', 'spring', 'behavior')\n",
    "fall2019 = create_df(fall2019_dict, '2019-20', 'fall', 'behavior')"
   ]
  },
  {
   "cell_type": "code",
   "execution_count": 8,
   "metadata": {},
   "outputs": [
    {
     "data": {
      "text/html": [
       "<div>\n",
       "<style scoped>\n",
       "    .dataframe tbody tr th:only-of-type {\n",
       "        vertical-align: middle;\n",
       "    }\n",
       "\n",
       "    .dataframe tbody tr th {\n",
       "        vertical-align: top;\n",
       "    }\n",
       "\n",
       "    .dataframe thead th {\n",
       "        text-align: right;\n",
       "    }\n",
       "</style>\n",
       "<table border=\"1\" class=\"dataframe\">\n",
       "  <thead>\n",
       "    <tr style=\"text-align: right;\">\n",
       "      <th></th>\n",
       "      <th>text</th>\n",
       "      <th>year</th>\n",
       "      <th>semester</th>\n",
       "      <th>scenario</th>\n",
       "    </tr>\n",
       "    <tr>\n",
       "      <th>doc</th>\n",
       "      <th></th>\n",
       "      <th></th>\n",
       "      <th></th>\n",
       "      <th></th>\n",
       "    </tr>\n",
       "  </thead>\n",
       "  <tbody>\n",
       "    <tr>\n",
       "      <th>2019_114_5C_Transcript.docx</th>\n",
       "      <td>How do you feel about, are you feeling abou...</td>\n",
       "      <td>2018-19</td>\n",
       "      <td>spring</td>\n",
       "      <td>behavior</td>\n",
       "    </tr>\n",
       "  </tbody>\n",
       "</table>\n",
       "</div>"
      ],
      "text/plain": [
       "                                                                          text  \\\n",
       "doc                                                                              \n",
       "2019_114_5C_Transcript.docx     How do you feel about, are you feeling abou...   \n",
       "\n",
       "                                year semester  scenario  \n",
       "doc                                                      \n",
       "2019_114_5C_Transcript.docx  2018-19   spring  behavior  "
      ]
     },
     "execution_count": 8,
     "metadata": {},
     "output_type": "execute_result"
    }
   ],
   "source": [
    "spring2019.sample()"
   ]
  },
  {
   "cell_type": "code",
   "execution_count": 9,
   "metadata": {},
   "outputs": [
    {
     "data": {
      "text/html": [
       "<div>\n",
       "<style scoped>\n",
       "    .dataframe tbody tr th:only-of-type {\n",
       "        vertical-align: middle;\n",
       "    }\n",
       "\n",
       "    .dataframe tbody tr th {\n",
       "        vertical-align: top;\n",
       "    }\n",
       "\n",
       "    .dataframe thead th {\n",
       "        text-align: right;\n",
       "    }\n",
       "</style>\n",
       "<table border=\"1\" class=\"dataframe\">\n",
       "  <thead>\n",
       "    <tr style=\"text-align: right;\">\n",
       "      <th></th>\n",
       "      <th>text</th>\n",
       "      <th>year</th>\n",
       "      <th>semester</th>\n",
       "      <th>scenario</th>\n",
       "    </tr>\n",
       "    <tr>\n",
       "      <th>doc</th>\n",
       "      <th></th>\n",
       "      <th></th>\n",
       "      <th></th>\n",
       "      <th></th>\n",
       "    </tr>\n",
       "  </thead>\n",
       "  <tbody>\n",
       "    <tr>\n",
       "      <th>122_c_Transcript.docx</th>\n",
       "      <td>Yeah, and don’t be afraid, seriously, if lik...</td>\n",
       "      <td>2017-18</td>\n",
       "      <td>fall</td>\n",
       "      <td>feedback</td>\n",
       "    </tr>\n",
       "    <tr>\n",
       "      <th>56_c_Transcript.docx</th>\n",
       "      <td>So what are some things that you think went...</td>\n",
       "      <td>2017-18</td>\n",
       "      <td>fall</td>\n",
       "      <td>feedback</td>\n",
       "    </tr>\n",
       "    <tr>\n",
       "      <th>2018_109_3C_Transcript.docx</th>\n",
       "      <td>How do you think that went?  Went well for y...</td>\n",
       "      <td>2018-19</td>\n",
       "      <td>fall</td>\n",
       "      <td>feedback</td>\n",
       "    </tr>\n",
       "    <tr>\n",
       "      <th>42_c_Transcript.docx</th>\n",
       "      <td>All right.  As it relates to feedback, what...</td>\n",
       "      <td>2017-18</td>\n",
       "      <td>fall</td>\n",
       "      <td>feedback</td>\n",
       "    </tr>\n",
       "    <tr>\n",
       "      <th>52-2C.docx</th>\n",
       "      <td>All right. So Danielle, how are you feeling ...</td>\n",
       "      <td>2017-18</td>\n",
       "      <td>spring</td>\n",
       "      <td>behavior</td>\n",
       "    </tr>\n",
       "    <tr>\n",
       "      <th>2019_40_5C_Transcript.docx</th>\n",
       "      <td>They’re going to turn again to you.     Oh,...</td>\n",
       "      <td>2018-19</td>\n",
       "      <td>spring</td>\n",
       "      <td>behavior</td>\n",
       "    </tr>\n",
       "    <tr>\n",
       "      <th>111_c_Transcript.docx</th>\n",
       "      <td>What do you think went well as it relates t...</td>\n",
       "      <td>2017-18</td>\n",
       "      <td>fall</td>\n",
       "      <td>feedback</td>\n",
       "    </tr>\n",
       "    <tr>\n",
       "      <th>2018_75_3C_Transcript.docx</th>\n",
       "      <td>All right.  So, how do you feel about it?  ...</td>\n",
       "      <td>2018-19</td>\n",
       "      <td>fall</td>\n",
       "      <td>feedback</td>\n",
       "    </tr>\n",
       "    <tr>\n",
       "      <th>2018_3_3C_Transcript.docx</th>\n",
       "      <td>All right.  How did you think the first sim...</td>\n",
       "      <td>2018-19</td>\n",
       "      <td>fall</td>\n",
       "      <td>feedback</td>\n",
       "    </tr>\n",
       "    <tr>\n",
       "      <th>122-2C.docx</th>\n",
       "      <td>First of all, how do you feel? How do you th...</td>\n",
       "      <td>2017-18</td>\n",
       "      <td>spring</td>\n",
       "      <td>behavior</td>\n",
       "    </tr>\n",
       "  </tbody>\n",
       "</table>\n",
       "</div>"
      ],
      "text/plain": [
       "                                                                          text  \\\n",
       "doc                                                                              \n",
       "122_c_Transcript.docx          Yeah, and don’t be afraid, seriously, if lik...   \n",
       "56_c_Transcript.docx            So what are some things that you think went...   \n",
       "2018_109_3C_Transcript.docx    How do you think that went?  Went well for y...   \n",
       "42_c_Transcript.docx            All right.  As it relates to feedback, what...   \n",
       "52-2C.docx                     All right. So Danielle, how are you feeling ...   \n",
       "2019_40_5C_Transcript.docx      They’re going to turn again to you.     Oh,...   \n",
       "111_c_Transcript.docx           What do you think went well as it relates t...   \n",
       "2018_75_3C_Transcript.docx      All right.  So, how do you feel about it?  ...   \n",
       "2018_3_3C_Transcript.docx       All right.  How did you think the first sim...   \n",
       "122-2C.docx                    First of all, how do you feel? How do you th...   \n",
       "\n",
       "                                year semester  scenario  \n",
       "doc                                                      \n",
       "122_c_Transcript.docx        2017-18     fall  feedback  \n",
       "56_c_Transcript.docx         2017-18     fall  feedback  \n",
       "2018_109_3C_Transcript.docx  2018-19     fall  feedback  \n",
       "42_c_Transcript.docx         2017-18     fall  feedback  \n",
       "52-2C.docx                   2017-18   spring  behavior  \n",
       "2019_40_5C_Transcript.docx   2018-19   spring  behavior  \n",
       "111_c_Transcript.docx        2017-18     fall  feedback  \n",
       "2018_75_3C_Transcript.docx   2018-19     fall  feedback  \n",
       "2018_3_3C_Transcript.docx    2018-19     fall  feedback  \n",
       "122-2C.docx                  2017-18   spring  behavior  "
      ]
     },
     "execution_count": 9,
     "metadata": {},
     "output_type": "execute_result"
    }
   ],
   "source": [
    "corpus_df = fall2017.append(spring2018)\n",
    "corpus_df = corpus_df.append(fall2018)\n",
    "corpus_df = corpus_df.append(spring2019)\n",
    "corpus_df = corpus_df.append(fall2019)\n",
    "corpus_df.sample(10)"
   ]
  },
  {
   "cell_type": "markdown",
   "metadata": {},
   "source": [
    "# Send to CSV"
   ]
  },
  {
   "cell_type": "code",
   "execution_count": 10,
   "metadata": {},
   "outputs": [],
   "source": [
    "corpus_df.to_csv(clean_filepath + 'text_transcripts.csv')"
   ]
  },
  {
   "cell_type": "code",
   "execution_count": null,
   "metadata": {},
   "outputs": [],
   "source": []
  }
 ],
 "metadata": {
  "kernelspec": {
   "display_name": "Python [conda env:spacy]",
   "language": "python",
   "name": "conda-env-spacy-py"
  },
  "language_info": {
   "codemirror_mode": {
    "name": "ipython",
    "version": 3
   },
   "file_extension": ".py",
   "mimetype": "text/x-python",
   "name": "python",
   "nbconvert_exporter": "python",
   "pygments_lexer": "ipython3",
   "version": "3.7.2"
  }
 },
 "nbformat": 4,
 "nbformat_minor": 2
}
