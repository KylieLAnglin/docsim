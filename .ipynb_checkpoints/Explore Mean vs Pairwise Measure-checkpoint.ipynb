{
 "cells": [
  {
   "cell_type": "code",
   "execution_count": 18,
   "metadata": {},
   "outputs": [],
   "source": [
    "import pandas as pd\n",
    "import numpy as np\n",
    "from library import start\n",
    "from scipy import spatial\n",
    "from statistics import mean \n",
    "\n",
    "\n",
    "clean_filepath = start.clean_filepath\n",
    "table_filepath = start.table_filepath"
   ]
  },
  {
   "cell_type": "code",
   "execution_count": 2,
   "metadata": {},
   "outputs": [
    {
     "data": {
      "text/html": [
       "<div>\n",
       "<style scoped>\n",
       "    .dataframe tbody tr th:only-of-type {\n",
       "        vertical-align: middle;\n",
       "    }\n",
       "\n",
       "    .dataframe tbody tr th {\n",
       "        vertical-align: top;\n",
       "    }\n",
       "\n",
       "    .dataframe thead th {\n",
       "        text-align: right;\n",
       "    }\n",
       "</style>\n",
       "<table border=\"1\" class=\"dataframe\">\n",
       "  <thead>\n",
       "    <tr style=\"text-align: right;\">\n",
       "      <th></th>\n",
       "      <th>text</th>\n",
       "      <th>year</th>\n",
       "      <th>semester</th>\n",
       "      <th>scenario</th>\n",
       "    </tr>\n",
       "    <tr>\n",
       "      <th>doc</th>\n",
       "      <th></th>\n",
       "      <th></th>\n",
       "      <th></th>\n",
       "      <th></th>\n",
       "    </tr>\n",
       "  </thead>\n",
       "  <tbody>\n",
       "    <tr>\n",
       "      <td>106_c_Transcript.docx</td>\n",
       "      <td>How do you feel?     Yeah.     Interesting,...</td>\n",
       "      <td>2017-18</td>\n",
       "      <td>fall</td>\n",
       "      <td>feedback</td>\n",
       "    </tr>\n",
       "    <tr>\n",
       "      <td>11-2C.docx</td>\n",
       "      <td>How do you feel?   You feel okay?   Yeah. It...</td>\n",
       "      <td>2017-18</td>\n",
       "      <td>spring</td>\n",
       "      <td>behavior</td>\n",
       "    </tr>\n",
       "    <tr>\n",
       "      <td>2019_35_5C_Transcript.docx</td>\n",
       "      <td>First time, yes.     Yeah.  So, yeah, I’m n...</td>\n",
       "      <td>2018-19</td>\n",
       "      <td>spring</td>\n",
       "      <td>behavior</td>\n",
       "    </tr>\n",
       "    <tr>\n",
       "      <td>75_c_Transcript.docx</td>\n",
       "      <td>How do you feel?     Good, okay.  So what a...</td>\n",
       "      <td>2017-18</td>\n",
       "      <td>fall</td>\n",
       "      <td>feedback</td>\n",
       "    </tr>\n",
       "    <tr>\n",
       "      <td>122_c_Transcript.docx</td>\n",
       "      <td>Yeah, and don’t be afraid, seriously, if lik...</td>\n",
       "      <td>2017-18</td>\n",
       "      <td>fall</td>\n",
       "      <td>feedback</td>\n",
       "    </tr>\n",
       "  </tbody>\n",
       "</table>\n",
       "</div>"
      ],
      "text/plain": [
       "                                                                         text  \\\n",
       "doc                                                                             \n",
       "106_c_Transcript.docx          How do you feel?     Yeah.     Interesting,...   \n",
       "11-2C.docx                    How do you feel?   You feel okay?   Yeah. It...   \n",
       "2019_35_5C_Transcript.docx     First time, yes.     Yeah.  So, yeah, I’m n...   \n",
       "75_c_Transcript.docx           How do you feel?     Good, okay.  So what a...   \n",
       "122_c_Transcript.docx         Yeah, and don’t be afraid, seriously, if lik...   \n",
       "\n",
       "                               year semester  scenario  \n",
       "doc                                                     \n",
       "106_c_Transcript.docx       2017-18     fall  feedback  \n",
       "11-2C.docx                  2017-18   spring  behavior  \n",
       "2019_35_5C_Transcript.docx  2018-19   spring  behavior  \n",
       "75_c_Transcript.docx        2017-18     fall  feedback  \n",
       "122_c_Transcript.docx       2017-18     fall  feedback  "
      ]
     },
     "execution_count": 2,
     "metadata": {},
     "output_type": "execute_result"
    }
   ],
   "source": [
    "docs = pd.read_csv(clean_filepath + 'text_transcripts.csv')\n",
    "docs = docs.set_index('doc')\n",
    "docs.sample(5)"
   ]
  },
  {
   "cell_type": "code",
   "execution_count": 3,
   "metadata": {},
   "outputs": [
    {
     "data": {
      "text/plain": [
       "2017-18    144\n",
       "2018-19     92\n",
       "2019-20     48\n",
       "Name: year, dtype: int64"
      ]
     },
     "execution_count": 3,
     "metadata": {},
     "output_type": "execute_result"
    }
   ],
   "source": [
    "docs.year.value_counts()"
   ]
  },
  {
   "cell_type": "code",
   "execution_count": 6,
   "metadata": {},
   "outputs": [],
   "source": [
    "matrix_transcripts_file = 'matrix_transcripts.csv'\n",
    "\n",
    "matrix_transcripts = pd.read_csv(clean_filepath + matrix_transcripts_file)\n",
    "matrix_transcripts = matrix_transcripts.set_index('doc')"
   ]
  },
  {
   "cell_type": "code",
   "execution_count": 7,
   "metadata": {},
   "outputs": [],
   "source": [
    "# Get mean of Spring 2017-18 and Spring 2018-19"
   ]
  },
  {
   "cell_type": "code",
   "execution_count": 10,
   "metadata": {},
   "outputs": [],
   "source": [
    "docs_spring18 = docs[(docs.year == '2017-18') & (docs.semester == 'spring')]\n",
    "docs_spring19 = docs[(docs.year == '2018-19') & (docs.semester == 'spring')]\n",
    "\n",
    "matrix_spring18 = matrix_transcripts[matrix_transcripts.index.isin(docs_spring18.index)]\n",
    "matrix_spring19 = matrix_transcripts[matrix_transcripts.index.isin(docs_spring19.index)]\n",
    "\n",
    "centroid_spring18 = np.mean(matrix_spring18)\n",
    "centroid_spring19 = np.mean(matrix_spring19)"
   ]
  },
  {
   "cell_type": "code",
   "execution_count": null,
   "metadata": {},
   "outputs": [],
   "source": [
    "# Mean to Mean results in a very high document similarity "
   ]
  },
  {
   "cell_type": "code",
   "execution_count": 12,
   "metadata": {},
   "outputs": [
    {
     "data": {
      "text/plain": [
       "0.9645198965239951"
      ]
     },
     "execution_count": 12,
     "metadata": {},
     "output_type": "execute_result"
    }
   ],
   "source": [
    "1 - spatial.distance.cosine(centroid_spring18, centroid_spring19)"
   ]
  },
  {
   "cell_type": "code",
   "execution_count": 13,
   "metadata": {},
   "outputs": [
    {
     "data": {
      "text/plain": [
       "0.9645198965239951"
      ]
     },
     "execution_count": 13,
     "metadata": {},
     "output_type": "execute_result"
    }
   ],
   "source": [
    "1 - spatial.distance.cosine(centroid_spring19, centroid_spring18)"
   ]
  },
  {
   "cell_type": "code",
   "execution_count": null,
   "metadata": {},
   "outputs": [],
   "source": [
    "# Doc to mean"
   ]
  },
  {
   "cell_type": "code",
   "execution_count": 21,
   "metadata": {},
   "outputs": [],
   "source": [
    "def distance_to_mean(matrix_main, matrix_comparison):\n",
    "    sims = []\n",
    "    for maindoc in matrix_main.index:\n",
    "        centroid = np.mean(matrix_comparison)\n",
    "        matrix_comp = matrix_comparison[~matrix_comparison.index.isin([maindoc])] # exclude self\n",
    "        sim = 1 - spatial.distance.cosine(matrix_main.loc[maindoc], centroid)\n",
    "        sims.append(sim)    \n",
    "    return sims"
   ]
  },
  {
   "cell_type": "code",
   "execution_count": 22,
   "metadata": {},
   "outputs": [
    {
     "data": {
      "text/plain": [
       "0.8754470792464875"
      ]
     },
     "execution_count": 22,
     "metadata": {},
     "output_type": "execute_result"
    }
   ],
   "source": [
    "mean(distance_to_mean(matrix_spring18, matrix_spring19))"
   ]
  },
  {
   "cell_type": "code",
   "execution_count": 23,
   "metadata": {},
   "outputs": [
    {
     "data": {
      "text/plain": [
       "0.887391234917196"
      ]
     },
     "execution_count": 23,
     "metadata": {},
     "output_type": "execute_result"
    }
   ],
   "source": [
    "mean(distance_to_mean(matrix_spring19, matrix_spring18))"
   ]
  },
  {
   "cell_type": "code",
   "execution_count": 24,
   "metadata": {},
   "outputs": [],
   "source": [
    "# Pairwise"
   ]
  },
  {
   "cell_type": "code",
   "execution_count": 29,
   "metadata": {},
   "outputs": [
    {
     "data": {
      "text/plain": [
       "0.8054762823274201"
      ]
     },
     "execution_count": 29,
     "metadata": {},
     "output_type": "execute_result"
    }
   ],
   "source": [
    "sims = []\n",
    "for maindoc in matrix_spring18.index:\n",
    "    for compdoc in matrix_spring19.index:\n",
    "        sim = 1 - spatial.distance.cosine(matrix_spring18.loc[maindoc], matrix_spring19.loc[compdoc])\n",
    "        sims.append(sim)\n",
    "mean(sims)"
   ]
  },
  {
   "cell_type": "code",
   "execution_count": 30,
   "metadata": {},
   "outputs": [
    {
     "data": {
      "text/plain": [
       "0.8054762823274201"
      ]
     },
     "execution_count": 30,
     "metadata": {},
     "output_type": "execute_result"
    }
   ],
   "source": [
    "sims = []\n",
    "for maindoc in matrix_spring19.index:\n",
    "    for compdoc in matrix_spring18.index:\n",
    "        sim = 1 - spatial.distance.cosine(matrix_spring19.loc[maindoc], matrix_spring18.loc[compdoc])\n",
    "        sims.append(sim)\n",
    "mean(sims)"
   ]
  },
  {
   "cell_type": "markdown",
   "metadata": {},
   "source": [
    "## I think that the docs to mean version is different depending on the study that is the baseline because it depends on the variability in the study. If this is true, then spring 2019 should have a bigger session similarity measure than spring 2018."
   ]
  },
  {
   "cell_type": "code",
   "execution_count": 33,
   "metadata": {},
   "outputs": [
    {
     "data": {
      "text/plain": [
       "0.908180980385631"
      ]
     },
     "execution_count": 33,
     "metadata": {},
     "output_type": "execute_result"
    }
   ],
   "source": [
    "mean(distance_to_mean(matrix_spring18, matrix_spring18))"
   ]
  },
  {
   "cell_type": "code",
   "execution_count": 34,
   "metadata": {},
   "outputs": [
    {
     "data": {
      "text/plain": [
       "0.9197988754958992"
      ]
     },
     "execution_count": 34,
     "metadata": {},
     "output_type": "execute_result"
    }
   ],
   "source": [
    "mean(distance_to_mean(matrix_spring19, matrix_spring19))"
   ]
  },
  {
   "cell_type": "markdown",
   "metadata": {},
   "source": [
    "### we see that."
   ]
  },
  {
   "cell_type": "code",
   "execution_count": null,
   "metadata": {},
   "outputs": [],
   "source": []
  }
 ],
 "metadata": {
  "kernelspec": {
   "display_name": "Python 3",
   "language": "python",
   "name": "python3"
  },
  "language_info": {
   "codemirror_mode": {
    "name": "ipython",
    "version": 3
   },
   "file_extension": ".py",
   "mimetype": "text/x-python",
   "name": "python",
   "nbconvert_exporter": "python",
   "pygments_lexer": "ipython3",
   "version": "3.7.4"
  }
 },
 "nbformat": 4,
 "nbformat_minor": 2
}
