{
 "cells": [
  {
   "cell_type": "code",
   "execution_count": 68,
   "metadata": {},
   "outputs": [],
   "source": [
    "import similarity\n",
    "import operator\n",
    "import matplotlib.pyplot as plt\n",
    "from sklearn.feature_extraction.text import CountVectorizer\n",
    "import numpy as np\n",
    "from scipy import spatial\n",
    "from sklearn.metrics.pairwise import cosine_similarity\n",
    "import pandas as pd\n",
    "from statistics import stdev\n",
    "import seaborn as sns\n",
    "from nltk.stem import PorterStemmer"
   ]
  },
  {
   "cell_type": "code",
   "execution_count": 69,
   "metadata": {},
   "outputs": [],
   "source": [
    "spring2018_filepath = '/Users/kylieleblancKylie/domino/docsim/data/spring_2018/coaching/'\n",
    "spring2019_filepath = '/Users/kylieleblancKylie/domino/docsim/data/spring_2019/coaching/'\n",
    "results_filepath = \"/Users/kylieleblancKylie/domino/docsim/results/\""
   ]
  },
  {
   "cell_type": "markdown",
   "metadata": {},
   "source": [
    "# Extract text from documents"
   ]
  },
  {
   "cell_type": "code",
   "execution_count": 70,
   "metadata": {
    "scrolled": true
   },
   "outputs": [],
   "source": [
    "spring2018_dict = similarity.make_text_dict(spring2018_filepath, '*docx')\n",
    "spring2019_dict = similarity.make_text_dict(spring2019_filepath, '2019*')\n",
    "def create_df(textdict, year, semester):\n",
    "    df = pd.DataFrame.from_dict(data = textdict, orient = 'index').reset_index()\n",
    "    df = df.rename({'index': 'doc', 0: 'text'}, axis = 'columns')\n",
    "    df['year'] = year\n",
    "    df['semester'] = semester\n",
    "    return df\n",
    "spring2018 = create_df(spring2018_dict, 2018, 'spring')\n",
    "spring2019 = create_df(spring2019_dict, 2019, 'spring')"
   ]
  },
  {
   "cell_type": "code",
   "execution_count": 71,
   "metadata": {},
   "outputs": [
    {
     "data": {
      "text/html": [
       "<div>\n",
       "<style scoped>\n",
       "    .dataframe tbody tr th:only-of-type {\n",
       "        vertical-align: middle;\n",
       "    }\n",
       "\n",
       "    .dataframe tbody tr th {\n",
       "        vertical-align: top;\n",
       "    }\n",
       "\n",
       "    .dataframe thead th {\n",
       "        text-align: right;\n",
       "    }\n",
       "</style>\n",
       "<table border=\"1\" class=\"dataframe\">\n",
       "  <thead>\n",
       "    <tr style=\"text-align: right;\">\n",
       "      <th></th>\n",
       "      <th>doc</th>\n",
       "      <th>text</th>\n",
       "      <th>year</th>\n",
       "      <th>semester</th>\n",
       "    </tr>\n",
       "  </thead>\n",
       "  <tbody>\n",
       "    <tr>\n",
       "      <th>81</th>\n",
       "      <td>2019_40_5C_Transcript.docx</td>\n",
       "      <td>Coach:  [0:00:05] Oh, do you have – no, okay, ...</td>\n",
       "      <td>2019</td>\n",
       "      <td>spring</td>\n",
       "    </tr>\n",
       "    <tr>\n",
       "      <th>78</th>\n",
       "      <td>2019_35_5C_Transcript.docx</td>\n",
       "      <td>Coach:  [00:00:00] First time, yes.  [00:00:01...</td>\n",
       "      <td>2019</td>\n",
       "      <td>spring</td>\n",
       "    </tr>\n",
       "    <tr>\n",
       "      <th>52</th>\n",
       "      <td>11-2C.docx</td>\n",
       "      <td>[00:00:01] Coach: How do you feel?\\n[00:00:04]...</td>\n",
       "      <td>2018</td>\n",
       "      <td>spring</td>\n",
       "    </tr>\n",
       "    <tr>\n",
       "      <th>47</th>\n",
       "      <td>115-2C.docx</td>\n",
       "      <td>[00:00:00] Coach: And so, how do you feel abou...</td>\n",
       "      <td>2018</td>\n",
       "      <td>spring</td>\n",
       "    </tr>\n",
       "    <tr>\n",
       "      <th>55</th>\n",
       "      <td>37-2C.docx</td>\n",
       "      <td>[00:00:00] Coach: So, how do you feel about th...</td>\n",
       "      <td>2018</td>\n",
       "      <td>spring</td>\n",
       "    </tr>\n",
       "    <tr>\n",
       "      <th>26</th>\n",
       "      <td>17-2C.docx</td>\n",
       "      <td>[00:00:00] Coach: How do you think that went? ...</td>\n",
       "      <td>2018</td>\n",
       "      <td>spring</td>\n",
       "    </tr>\n",
       "    <tr>\n",
       "      <th>70</th>\n",
       "      <td>2019_58_5C_Transcript.docx</td>\n",
       "      <td>Coach:  [00:00:07] Alright.  Nice job.  Like s...</td>\n",
       "      <td>2019</td>\n",
       "      <td>spring</td>\n",
       "    </tr>\n",
       "    <tr>\n",
       "      <th>41</th>\n",
       "      <td>60-2C.docx</td>\n",
       "      <td>[00:00:00] Coach: How do you feel about that f...</td>\n",
       "      <td>2018</td>\n",
       "      <td>spring</td>\n",
       "    </tr>\n",
       "    <tr>\n",
       "      <th>96</th>\n",
       "      <td>2019_71_5C_Transcript.docx</td>\n",
       "      <td>Coach:  [00:00:00] Okay so how are you feeling...</td>\n",
       "      <td>2019</td>\n",
       "      <td>spring</td>\n",
       "    </tr>\n",
       "    <tr>\n",
       "      <th>34</th>\n",
       "      <td>69-2C.docx</td>\n",
       "      <td>[00:00:00] Coach: Um, so how did you feel abou...</td>\n",
       "      <td>2018</td>\n",
       "      <td>spring</td>\n",
       "    </tr>\n",
       "  </tbody>\n",
       "</table>\n",
       "</div>"
      ],
      "text/plain": [
       "                           doc  \\\n",
       "81  2019_40_5C_Transcript.docx   \n",
       "78  2019_35_5C_Transcript.docx   \n",
       "52                  11-2C.docx   \n",
       "47                 115-2C.docx   \n",
       "55                  37-2C.docx   \n",
       "26                  17-2C.docx   \n",
       "70  2019_58_5C_Transcript.docx   \n",
       "41                  60-2C.docx   \n",
       "96  2019_71_5C_Transcript.docx   \n",
       "34                  69-2C.docx   \n",
       "\n",
       "                                                 text  year semester  \n",
       "81  Coach:  [0:00:05] Oh, do you have – no, okay, ...  2019   spring  \n",
       "78  Coach:  [00:00:00] First time, yes.  [00:00:01...  2019   spring  \n",
       "52  [00:00:01] Coach: How do you feel?\\n[00:00:04]...  2018   spring  \n",
       "47  [00:00:00] Coach: And so, how do you feel abou...  2018   spring  \n",
       "55  [00:00:00] Coach: So, how do you feel about th...  2018   spring  \n",
       "26  [00:00:00] Coach: How do you think that went? ...  2018   spring  \n",
       "70  Coach:  [00:00:07] Alright.  Nice job.  Like s...  2019   spring  \n",
       "41  [00:00:00] Coach: How do you feel about that f...  2018   spring  \n",
       "96  Coach:  [00:00:00] Okay so how are you feeling...  2019   spring  \n",
       "34  [00:00:00] Coach: Um, so how did you feel abou...  2018   spring  "
      ]
     },
     "execution_count": 71,
     "metadata": {},
     "output_type": "execute_result"
    }
   ],
   "source": [
    "df = spring2018.append(spring2019)\n",
    "df = df.reset_index(drop = True)\n",
    "df.sample(10)"
   ]
  },
  {
   "cell_type": "code",
   "execution_count": 72,
   "metadata": {},
   "outputs": [
    {
     "data": {
      "text/plain": [
       "113"
      ]
     },
     "execution_count": 72,
     "metadata": {},
     "output_type": "execute_result"
    }
   ],
   "source": [
    "len(df)"
   ]
  },
  {
   "cell_type": "markdown",
   "metadata": {},
   "source": [
    "# Create document term matrix for full copus"
   ]
  },
  {
   "cell_type": "code",
   "execution_count": 73,
   "metadata": {},
   "outputs": [
    {
     "name": "stdout",
     "output_type": "stream",
     "text": [
      "Words extracted from corpus: \n",
      "a, abbi, abil, abl, about, abras, abruptli, absolut, absorb, academ, accept, acclim, accomplish, acknowledg, across, act, action, activ, actual, ad, add, addit, address, adjust, admir, advantag, advers, advic, advoc, affect, afraid, after, afterward, again, against, aggress, agit, agre, ah, ahead, aim, air, al, alarm, alex, alic, align, alittl, all, allow, allright, almost, along, alreadi, alright, alrighti, also, alter, altern, although, alway, am, amaz, ambigu, amic, amount, an, anatoli, and, anger, angl, angri, ani, announc, annoy, anoth, answer, anxieti, anxiou, anymor, anyon, anyth, anytim, anyway, appear, appli, applic, appreci, approach, appropri, approxim, are, area, aren, argu, argument, ariel, aris, arm, around, as, asid, ask, aspect, assert, associ, assum, assumpt, at, atmospher, attach, attack, attempt, attend, attent, attitud, audio, ava, avail, avatar, avoid, awar, away, awesom, awhil, awkward, b, ba, back, background, backpack, bad, bag, bagel, balanc, bang, base, basic, bat, battl, be, beach, beat, beatbox, beauti, becaus, becom, been, beep, befor, began, begin, behav, behavior, behavoir, behind, benefici, benefit, besid, best, bet, better, between, big, bigger, biggest, bird, bit, bizarr, blah, bless, blow, board, bodi, boom, bossi, both, bother, boundari, box, brain, brainstorm, break, breakdown, brief, briefli, bring, broad, broader, brought, bud, bug, build, bulk, burden, but, buy, buzz, by, call, "
     ]
    },
    {
     "data": {
      "text/html": [
       "<div>\n",
       "<style scoped>\n",
       "    .dataframe tbody tr th:only-of-type {\n",
       "        vertical-align: middle;\n",
       "    }\n",
       "\n",
       "    .dataframe tbody tr th {\n",
       "        vertical-align: top;\n",
       "    }\n",
       "\n",
       "    .dataframe thead th {\n",
       "        text-align: right;\n",
       "    }\n",
       "</style>\n",
       "<table border=\"1\" class=\"dataframe\">\n",
       "  <thead>\n",
       "    <tr style=\"text-align: right;\">\n",
       "      <th></th>\n",
       "      <th>doc</th>\n",
       "      <th>text</th>\n",
       "      <th>year</th>\n",
       "      <th>semester</th>\n",
       "      <th>term_freq</th>\n",
       "    </tr>\n",
       "  </thead>\n",
       "  <tbody>\n",
       "    <tr>\n",
       "      <th>53</th>\n",
       "      <td>107-2C.docx</td>\n",
       "      <td>[00:00:01] Coach: How are you feeling?\\n[00:00...</td>\n",
       "      <td>2018</td>\n",
       "      <td>spring</td>\n",
       "      <td>[8, 0, 0, 1, 4, 0, 0, 0, 0, 0, 0, 0, 0, 1, 0, ...</td>\n",
       "    </tr>\n",
       "    <tr>\n",
       "      <th>50</th>\n",
       "      <td>57-2C.docx</td>\n",
       "      <td>[00:00:00] Coach: Uh, how do you feel about th...</td>\n",
       "      <td>2018</td>\n",
       "      <td>spring</td>\n",
       "      <td>[16, 0, 0, 0, 6, 0, 0, 0, 0, 0, 0, 0, 0, 0, 3,...</td>\n",
       "    </tr>\n",
       "    <tr>\n",
       "      <th>94</th>\n",
       "      <td>2019_62_5C_Transcript.docx</td>\n",
       "      <td>Coach:  [00:00:04] Yes.  Hello. [00:00:05]\\nCo...</td>\n",
       "      <td>2019</td>\n",
       "      <td>spring</td>\n",
       "      <td>[9, 0, 0, 0, 7, 0, 0, 0, 0, 0, 0, 0, 0, 0, 0, ...</td>\n",
       "    </tr>\n",
       "    <tr>\n",
       "      <th>37</th>\n",
       "      <td>46-2C.docx</td>\n",
       "      <td>[00:00:00] Coach: So, how you feeling? How you...</td>\n",
       "      <td>2018</td>\n",
       "      <td>spring</td>\n",
       "      <td>[19, 0, 0, 0, 2, 0, 0, 0, 0, 0, 0, 0, 0, 0, 0,...</td>\n",
       "    </tr>\n",
       "    <tr>\n",
       "      <th>112</th>\n",
       "      <td>2019_54_5C_Transcript.docx</td>\n",
       "      <td>Coach:  [00:00:10] So, you probably heard me c...</td>\n",
       "      <td>2019</td>\n",
       "      <td>spring</td>\n",
       "      <td>[11, 0, 0, 0, 5, 0, 0, 2, 0, 0, 0, 0, 0, 0, 0,...</td>\n",
       "    </tr>\n",
       "  </tbody>\n",
       "</table>\n",
       "</div>"
      ],
      "text/plain": [
       "                            doc  \\\n",
       "53                  107-2C.docx   \n",
       "50                   57-2C.docx   \n",
       "94   2019_62_5C_Transcript.docx   \n",
       "37                   46-2C.docx   \n",
       "112  2019_54_5C_Transcript.docx   \n",
       "\n",
       "                                                  text  year semester  \\\n",
       "53   [00:00:01] Coach: How are you feeling?\\n[00:00...  2018   spring   \n",
       "50   [00:00:00] Coach: Uh, how do you feel about th...  2018   spring   \n",
       "94   Coach:  [00:00:04] Yes.  Hello. [00:00:05]\\nCo...  2019   spring   \n",
       "37   [00:00:00] Coach: So, how you feeling? How you...  2018   spring   \n",
       "112  Coach:  [00:00:10] So, you probably heard me c...  2019   spring   \n",
       "\n",
       "                                             term_freq  \n",
       "53   [8, 0, 0, 1, 4, 0, 0, 0, 0, 0, 0, 0, 0, 1, 0, ...  \n",
       "50   [16, 0, 0, 0, 6, 0, 0, 0, 0, 0, 0, 0, 0, 0, 3,...  \n",
       "94   [9, 0, 0, 0, 7, 0, 0, 0, 0, 0, 0, 0, 0, 0, 0, ...  \n",
       "37   [19, 0, 0, 0, 2, 0, 0, 0, 0, 0, 0, 0, 0, 0, 0,...  \n",
       "112  [11, 0, 0, 0, 5, 0, 0, 2, 0, 0, 0, 0, 0, 0, 0,...  "
      ]
     },
     "execution_count": 73,
     "metadata": {},
     "output_type": "execute_result"
    }
   ],
   "source": [
    "corpus = list(df.text)\n",
    "stemmer = PorterStemmer()\n",
    "analyzer = CountVectorizer(token_pattern=r'\\b[^\\d\\W]+\\b').build_analyzer()\n",
    "def stemmed_words(doc):\n",
    "    return (stemmer.stem(w) for w in analyzer(doc))\n",
    "\n",
    "stem_vectorizer = CountVectorizer(analyzer=stemmed_words)\n",
    "\n",
    "vectors = stem_vectorizer.fit_transform(corpus)\n",
    "print(\"Words extracted from corpus: \")\n",
    "for word in stem_vectorizer.get_feature_names()[0:200]:\n",
    "    print(word, end = \", \")\n",
    "count_vect_df = pd.DataFrame(vectors.todense(), columns=stem_vectorizer.get_feature_names())\n",
    "word_freq = count_vect_df.values.tolist()\n",
    "df['term_freq'] = word_freq\n",
    "#df = df.reset_index()\n",
    "df.sample(5)"
   ]
  },
  {
   "cell_type": "code",
   "execution_count": 74,
   "metadata": {},
   "outputs": [
    {
     "data": {
      "text/html": [
       "<div>\n",
       "<style scoped>\n",
       "    .dataframe tbody tr th:only-of-type {\n",
       "        vertical-align: middle;\n",
       "    }\n",
       "\n",
       "    .dataframe tbody tr th {\n",
       "        vertical-align: top;\n",
       "    }\n",
       "\n",
       "    .dataframe thead th {\n",
       "        text-align: right;\n",
       "    }\n",
       "</style>\n",
       "<table border=\"1\" class=\"dataframe\">\n",
       "  <thead>\n",
       "    <tr style=\"text-align: right;\">\n",
       "      <th></th>\n",
       "      <th>doc</th>\n",
       "      <th>text</th>\n",
       "      <th>year</th>\n",
       "      <th>semester</th>\n",
       "      <th>term_freq</th>\n",
       "      <th>within_study</th>\n",
       "    </tr>\n",
       "  </thead>\n",
       "  <tbody>\n",
       "    <tr>\n",
       "      <th>49</th>\n",
       "      <td>78-2C.docx</td>\n",
       "      <td>[00:00:03] Coach: There's, like, a lot of clic...</td>\n",
       "      <td>2018</td>\n",
       "      <td>spring</td>\n",
       "      <td>[7, 0, 0, 0, 2, 0, 0, 0, 0, 0, 0, 0, 0, 0, 1, ...</td>\n",
       "      <td>0.799693</td>\n",
       "    </tr>\n",
       "    <tr>\n",
       "      <th>99</th>\n",
       "      <td>2019_22_5C_Transcript.docx</td>\n",
       "      <td>Coach:  [00:00:00] Just go ahead and take a se...</td>\n",
       "      <td>2019</td>\n",
       "      <td>spring</td>\n",
       "      <td>[9, 0, 0, 0, 6, 0, 0, 0, 0, 0, 0, 0, 0, 1, 0, ...</td>\n",
       "      <td>0.877744</td>\n",
       "    </tr>\n",
       "    <tr>\n",
       "      <th>78</th>\n",
       "      <td>2019_35_5C_Transcript.docx</td>\n",
       "      <td>Coach:  [00:00:00] First time, yes.  [00:00:01...</td>\n",
       "      <td>2019</td>\n",
       "      <td>spring</td>\n",
       "      <td>[8, 0, 0, 0, 0, 0, 0, 0, 0, 0, 0, 0, 0, 0, 0, ...</td>\n",
       "      <td>0.816146</td>\n",
       "    </tr>\n",
       "    <tr>\n",
       "      <th>112</th>\n",
       "      <td>2019_54_5C_Transcript.docx</td>\n",
       "      <td>Coach:  [00:00:10] So, you probably heard me c...</td>\n",
       "      <td>2019</td>\n",
       "      <td>spring</td>\n",
       "      <td>[11, 0, 0, 0, 5, 0, 0, 2, 0, 0, 0, 0, 0, 0, 0,...</td>\n",
       "      <td>0.816194</td>\n",
       "    </tr>\n",
       "    <tr>\n",
       "      <th>46</th>\n",
       "      <td>105-2C.docx</td>\n",
       "      <td>[00:00:00] Coach: Alrighty. So how do you thin...</td>\n",
       "      <td>2018</td>\n",
       "      <td>spring</td>\n",
       "      <td>[18, 0, 0, 0, 1, 0, 0, 0, 0, 0, 0, 0, 0, 0, 0,...</td>\n",
       "      <td>0.850183</td>\n",
       "    </tr>\n",
       "  </tbody>\n",
       "</table>\n",
       "</div>"
      ],
      "text/plain": [
       "                            doc  \\\n",
       "49                   78-2C.docx   \n",
       "99   2019_22_5C_Transcript.docx   \n",
       "78   2019_35_5C_Transcript.docx   \n",
       "112  2019_54_5C_Transcript.docx   \n",
       "46                  105-2C.docx   \n",
       "\n",
       "                                                  text  year semester  \\\n",
       "49   [00:00:03] Coach: There's, like, a lot of clic...  2018   spring   \n",
       "99   Coach:  [00:00:00] Just go ahead and take a se...  2019   spring   \n",
       "78   Coach:  [00:00:00] First time, yes.  [00:00:01...  2019   spring   \n",
       "112  Coach:  [00:00:10] So, you probably heard me c...  2019   spring   \n",
       "46   [00:00:00] Coach: Alrighty. So how do you thin...  2018   spring   \n",
       "\n",
       "                                             term_freq  within_study  \n",
       "49   [7, 0, 0, 0, 2, 0, 0, 0, 0, 0, 0, 0, 0, 0, 1, ...      0.799693  \n",
       "99   [9, 0, 0, 0, 6, 0, 0, 0, 0, 0, 0, 0, 0, 1, 0, ...      0.877744  \n",
       "78   [8, 0, 0, 0, 0, 0, 0, 0, 0, 0, 0, 0, 0, 0, 0, ...      0.816146  \n",
       "112  [11, 0, 0, 0, 5, 0, 0, 2, 0, 0, 0, 0, 0, 0, 0,...      0.816194  \n",
       "46   [18, 0, 0, 0, 1, 0, 0, 0, 0, 0, 0, 0, 0, 0, 0,...      0.850183  "
      ]
     },
     "execution_count": 74,
     "metadata": {},
     "output_type": "execute_result"
    }
   ],
   "source": [
    "df['within_study'] = np.nan\n",
    "def within_study_mean(df, semester, year):\n",
    "    for maindoc in df[(df.semester == semester) & (df.year == year)].index:\n",
    "        pairwise_sim = []\n",
    "        for doc in df[(df.semester == semester) & (df.year == year)].index:\n",
    "            sim = 1 - spatial.distance.cosine(df.term_freq.loc[maindoc], df.term_freq.loc[doc])\n",
    "            pairwise_sim.append(sim)\n",
    "        average = (sum(pairwise_sim) - 1)/(len(pairwise_sim) - 1) # don't include relationship with self\n",
    "        df.at[maindoc, 'within_study'] = average\n",
    "    return df\n",
    "df = within_study_mean(df, 'spring', 2018)\n",
    "df = within_study_mean(df, 'spring', 2019)\n",
    "df.sample(5)"
   ]
  },
  {
   "cell_type": "code",
   "execution_count": 75,
   "metadata": {},
   "outputs": [
    {
     "data": {
      "text/html": [
       "<div>\n",
       "<style scoped>\n",
       "    .dataframe tbody tr th:only-of-type {\n",
       "        vertical-align: middle;\n",
       "    }\n",
       "\n",
       "    .dataframe tbody tr th {\n",
       "        vertical-align: top;\n",
       "    }\n",
       "\n",
       "    .dataframe thead th {\n",
       "        text-align: right;\n",
       "    }\n",
       "</style>\n",
       "<table border=\"1\" class=\"dataframe\">\n",
       "  <thead>\n",
       "    <tr style=\"text-align: right;\">\n",
       "      <th></th>\n",
       "      <th>doc</th>\n",
       "      <th>text</th>\n",
       "      <th>year</th>\n",
       "      <th>semester</th>\n",
       "      <th>term_freq</th>\n",
       "      <th>within_study</th>\n",
       "      <th>corpus_distance</th>\n",
       "    </tr>\n",
       "  </thead>\n",
       "  <tbody>\n",
       "    <tr>\n",
       "      <th>99</th>\n",
       "      <td>2019_22_5C_Transcript.docx</td>\n",
       "      <td>Coach:  [00:00:00] Just go ahead and take a se...</td>\n",
       "      <td>2019</td>\n",
       "      <td>spring</td>\n",
       "      <td>[9, 0, 0, 0, 6, 0, 0, 0, 0, 0, 0, 0, 0, 1, 0, ...</td>\n",
       "      <td>0.877744</td>\n",
       "      <td>0.852012</td>\n",
       "    </tr>\n",
       "    <tr>\n",
       "      <th>101</th>\n",
       "      <td>2019_87_5C_Transcript.docx</td>\n",
       "      <td>Coach:  [00:00:01] What do you think you did w...</td>\n",
       "      <td>2019</td>\n",
       "      <td>spring</td>\n",
       "      <td>[13, 3, 0, 0, 7, 1, 0, 0, 0, 0, 0, 0, 0, 0, 0,...</td>\n",
       "      <td>0.850719</td>\n",
       "      <td>0.813331</td>\n",
       "    </tr>\n",
       "    <tr>\n",
       "      <th>67</th>\n",
       "      <td>96-2C.docx</td>\n",
       "      <td>[00:00:01] Coach: Okay\\n[00:00:07] Coach: I'm ...</td>\n",
       "      <td>2018</td>\n",
       "      <td>spring</td>\n",
       "      <td>[10, 0, 0, 0, 7, 0, 0, 0, 0, 0, 0, 0, 0, 0, 0,...</td>\n",
       "      <td>0.843533</td>\n",
       "      <td>0.834981</td>\n",
       "    </tr>\n",
       "    <tr>\n",
       "      <th>5</th>\n",
       "      <td>32-2C.docx</td>\n",
       "      <td>[00:00:00] Coach: And how are you feeling abou...</td>\n",
       "      <td>2018</td>\n",
       "      <td>spring</td>\n",
       "      <td>[5, 0, 0, 0, 5, 0, 0, 0, 0, 0, 0, 0, 0, 0, 2, ...</td>\n",
       "      <td>0.794401</td>\n",
       "      <td>0.797608</td>\n",
       "    </tr>\n",
       "    <tr>\n",
       "      <th>63</th>\n",
       "      <td>72-2C.docx</td>\n",
       "      <td>[00:00:00] Coach: So how do you feel about tha...</td>\n",
       "      <td>2018</td>\n",
       "      <td>spring</td>\n",
       "      <td>[13, 0, 0, 0, 5, 0, 0, 0, 0, 0, 0, 0, 0, 0, 0,...</td>\n",
       "      <td>0.833635</td>\n",
       "      <td>0.815239</td>\n",
       "    </tr>\n",
       "  </tbody>\n",
       "</table>\n",
       "</div>"
      ],
      "text/plain": [
       "                            doc  \\\n",
       "99   2019_22_5C_Transcript.docx   \n",
       "101  2019_87_5C_Transcript.docx   \n",
       "67                   96-2C.docx   \n",
       "5                    32-2C.docx   \n",
       "63                   72-2C.docx   \n",
       "\n",
       "                                                  text  year semester  \\\n",
       "99   Coach:  [00:00:00] Just go ahead and take a se...  2019   spring   \n",
       "101  Coach:  [00:00:01] What do you think you did w...  2019   spring   \n",
       "67   [00:00:01] Coach: Okay\\n[00:00:07] Coach: I'm ...  2018   spring   \n",
       "5    [00:00:00] Coach: And how are you feeling abou...  2018   spring   \n",
       "63   [00:00:00] Coach: So how do you feel about tha...  2018   spring   \n",
       "\n",
       "                                             term_freq  within_study  \\\n",
       "99   [9, 0, 0, 0, 6, 0, 0, 0, 0, 0, 0, 0, 0, 1, 0, ...      0.877744   \n",
       "101  [13, 3, 0, 0, 7, 1, 0, 0, 0, 0, 0, 0, 0, 0, 0,...      0.850719   \n",
       "67   [10, 0, 0, 0, 7, 0, 0, 0, 0, 0, 0, 0, 0, 0, 0,...      0.843533   \n",
       "5    [5, 0, 0, 0, 5, 0, 0, 0, 0, 0, 0, 0, 0, 0, 2, ...      0.794401   \n",
       "63   [13, 0, 0, 0, 5, 0, 0, 0, 0, 0, 0, 0, 0, 0, 0,...      0.833635   \n",
       "\n",
       "     corpus_distance  \n",
       "99          0.852012  \n",
       "101         0.813331  \n",
       "67          0.834981  \n",
       "5           0.797608  \n",
       "63          0.815239  "
      ]
     },
     "execution_count": 75,
     "metadata": {},
     "output_type": "execute_result"
    }
   ],
   "source": [
    "df['corpus_distance'] = np.nan\n",
    "def corpus_mean(df):\n",
    "    for maindoc in df.index:\n",
    "        pairwise_sim = []\n",
    "        for doc in df.index:\n",
    "            sim = 1 - spatial.distance.cosine(df.term_freq.loc[maindoc], df.term_freq.loc[doc])\n",
    "            pairwise_sim.append(sim)\n",
    "        average = (sum(pairwise_sim) - 1)/(len(pairwise_sim) - 1) # don't include relationship with self\n",
    "        df.at[maindoc, 'corpus_distance'] = average\n",
    "    return df\n",
    "df = corpus_mean(df)\n",
    "df.sample(5)"
   ]
  },
  {
   "cell_type": "code",
   "execution_count": 76,
   "metadata": {},
   "outputs": [
    {
     "data": {
      "text/html": [
       "<div>\n",
       "<style scoped>\n",
       "    .dataframe tbody tr th:only-of-type {\n",
       "        vertical-align: middle;\n",
       "    }\n",
       "\n",
       "    .dataframe tbody tr th {\n",
       "        vertical-align: top;\n",
       "    }\n",
       "\n",
       "    .dataframe thead th {\n",
       "        text-align: right;\n",
       "    }\n",
       "</style>\n",
       "<table border=\"1\" class=\"dataframe\">\n",
       "  <thead>\n",
       "    <tr style=\"text-align: right;\">\n",
       "      <th></th>\n",
       "      <th>doc</th>\n",
       "      <th>text</th>\n",
       "      <th>year</th>\n",
       "      <th>semester</th>\n",
       "      <th>term_freq</th>\n",
       "      <th>within_study</th>\n",
       "      <th>corpus_distance</th>\n",
       "      <th>replication</th>\n",
       "    </tr>\n",
       "  </thead>\n",
       "  <tbody>\n",
       "    <tr>\n",
       "      <th>97</th>\n",
       "      <td>2019_61_5C_Transcript.docx</td>\n",
       "      <td>Coach: [00:00:00] Go ahead and tell me your th...</td>\n",
       "      <td>2019</td>\n",
       "      <td>spring</td>\n",
       "      <td>[10, 0, 0, 0, 8, 0, 0, 0, 0, 0, 1, 0, 0, 0, 0,...</td>\n",
       "      <td>0.872760</td>\n",
       "      <td>0.848734</td>\n",
       "      <td>0.875588</td>\n",
       "    </tr>\n",
       "    <tr>\n",
       "      <th>87</th>\n",
       "      <td>2019_20_5C_Transcript.docx</td>\n",
       "      <td>Coach:  [00:00:04] All right, so come on over....</td>\n",
       "      <td>2019</td>\n",
       "      <td>spring</td>\n",
       "      <td>[15, 0, 0, 0, 1, 0, 0, 1, 0, 0, 0, 0, 0, 0, 0,...</td>\n",
       "      <td>0.827789</td>\n",
       "      <td>0.807323</td>\n",
       "      <td>0.831616</td>\n",
       "    </tr>\n",
       "    <tr>\n",
       "      <th>50</th>\n",
       "      <td>57-2C.docx</td>\n",
       "      <td>[00:00:00] Coach: Uh, how do you feel about th...</td>\n",
       "      <td>2018</td>\n",
       "      <td>spring</td>\n",
       "      <td>[16, 0, 0, 0, 6, 0, 0, 0, 0, 0, 0, 0, 0, 0, 3,...</td>\n",
       "      <td>0.815322</td>\n",
       "      <td>0.806190</td>\n",
       "      <td>0.792593</td>\n",
       "    </tr>\n",
       "    <tr>\n",
       "      <th>11</th>\n",
       "      <td>112-2C.docx</td>\n",
       "      <td>[00:00:00] Coach: You can come and have a seat...</td>\n",
       "      <td>2018</td>\n",
       "      <td>spring</td>\n",
       "      <td>[10, 0, 0, 0, 11, 0, 0, 0, 0, 0, 0, 0, 0, 0, 1...</td>\n",
       "      <td>0.853348</td>\n",
       "      <td>0.842443</td>\n",
       "      <td>0.826207</td>\n",
       "    </tr>\n",
       "    <tr>\n",
       "      <th>17</th>\n",
       "      <td>89-2C.docx</td>\n",
       "      <td>[00:00:00] Coach: All righty. So, first of all...</td>\n",
       "      <td>2018</td>\n",
       "      <td>spring</td>\n",
       "      <td>[19, 0, 0, 0, 0, 0, 0, 1, 0, 0, 0, 0, 0, 0, 0,...</td>\n",
       "      <td>0.823074</td>\n",
       "      <td>0.819649</td>\n",
       "      <td>0.814550</td>\n",
       "    </tr>\n",
       "    <tr>\n",
       "      <th>77</th>\n",
       "      <td>2019_38_5C_Transcript.docx</td>\n",
       "      <td>Coach:  [00:00:11] How are you feeling about t...</td>\n",
       "      <td>2019</td>\n",
       "      <td>spring</td>\n",
       "      <td>[5, 0, 0, 0, 6, 0, 0, 0, 0, 0, 0, 0, 0, 0, 0, ...</td>\n",
       "      <td>0.849340</td>\n",
       "      <td>0.833972</td>\n",
       "      <td>0.852688</td>\n",
       "    </tr>\n",
       "    <tr>\n",
       "      <th>31</th>\n",
       "      <td>53-2C.docx</td>\n",
       "      <td>[00:00:00] Coach: So, how do you feel about th...</td>\n",
       "      <td>2018</td>\n",
       "      <td>spring</td>\n",
       "      <td>[11, 0, 0, 0, 6, 0, 0, 0, 0, 0, 0, 0, 0, 0, 0,...</td>\n",
       "      <td>0.844786</td>\n",
       "      <td>0.818968</td>\n",
       "      <td>0.780527</td>\n",
       "    </tr>\n",
       "    <tr>\n",
       "      <th>1</th>\n",
       "      <td>103-2C.docx</td>\n",
       "      <td>[00:00:03] Coach: All right. Why don't you hav...</td>\n",
       "      <td>2018</td>\n",
       "      <td>spring</td>\n",
       "      <td>[5, 0, 0, 0, 2, 0, 0, 1, 0, 0, 0, 0, 0, 0, 0, ...</td>\n",
       "      <td>0.784210</td>\n",
       "      <td>0.782493</td>\n",
       "      <td>0.779936</td>\n",
       "    </tr>\n",
       "    <tr>\n",
       "      <th>68</th>\n",
       "      <td>2019_75_5C_Transcript.docx</td>\n",
       "      <td>Coach:   [00:00:02] Alright.  So, how do you f...</td>\n",
       "      <td>2019</td>\n",
       "      <td>spring</td>\n",
       "      <td>[8, 0, 0, 1, 6, 0, 0, 0, 0, 0, 0, 0, 0, 0, 0, ...</td>\n",
       "      <td>0.821573</td>\n",
       "      <td>0.823230</td>\n",
       "      <td>0.825538</td>\n",
       "    </tr>\n",
       "    <tr>\n",
       "      <th>48</th>\n",
       "      <td>123-2C.docx</td>\n",
       "      <td>[00:00:00] Coach: Um, so how do you feel about...</td>\n",
       "      <td>2018</td>\n",
       "      <td>spring</td>\n",
       "      <td>[6, 0, 0, 0, 9, 0, 0, 0, 0, 0, 0, 0, 0, 0, 0, ...</td>\n",
       "      <td>0.787610</td>\n",
       "      <td>0.777824</td>\n",
       "      <td>0.763254</td>\n",
       "    </tr>\n",
       "  </tbody>\n",
       "</table>\n",
       "</div>"
      ],
      "text/plain": [
       "                           doc  \\\n",
       "97  2019_61_5C_Transcript.docx   \n",
       "87  2019_20_5C_Transcript.docx   \n",
       "50                  57-2C.docx   \n",
       "11                 112-2C.docx   \n",
       "17                  89-2C.docx   \n",
       "77  2019_38_5C_Transcript.docx   \n",
       "31                  53-2C.docx   \n",
       "1                  103-2C.docx   \n",
       "68  2019_75_5C_Transcript.docx   \n",
       "48                 123-2C.docx   \n",
       "\n",
       "                                                 text  year semester  \\\n",
       "97  Coach: [00:00:00] Go ahead and tell me your th...  2019   spring   \n",
       "87  Coach:  [00:00:04] All right, so come on over....  2019   spring   \n",
       "50  [00:00:00] Coach: Uh, how do you feel about th...  2018   spring   \n",
       "11  [00:00:00] Coach: You can come and have a seat...  2018   spring   \n",
       "17  [00:00:00] Coach: All righty. So, first of all...  2018   spring   \n",
       "77  Coach:  [00:00:11] How are you feeling about t...  2019   spring   \n",
       "31  [00:00:00] Coach: So, how do you feel about th...  2018   spring   \n",
       "1   [00:00:03] Coach: All right. Why don't you hav...  2018   spring   \n",
       "68  Coach:   [00:00:02] Alright.  So, how do you f...  2019   spring   \n",
       "48  [00:00:00] Coach: Um, so how do you feel about...  2018   spring   \n",
       "\n",
       "                                            term_freq  within_study  \\\n",
       "97  [10, 0, 0, 0, 8, 0, 0, 0, 0, 0, 1, 0, 0, 0, 0,...      0.872760   \n",
       "87  [15, 0, 0, 0, 1, 0, 0, 1, 0, 0, 0, 0, 0, 0, 0,...      0.827789   \n",
       "50  [16, 0, 0, 0, 6, 0, 0, 0, 0, 0, 0, 0, 0, 0, 3,...      0.815322   \n",
       "11  [10, 0, 0, 0, 11, 0, 0, 0, 0, 0, 0, 0, 0, 0, 1...      0.853348   \n",
       "17  [19, 0, 0, 0, 0, 0, 0, 1, 0, 0, 0, 0, 0, 0, 0,...      0.823074   \n",
       "77  [5, 0, 0, 0, 6, 0, 0, 0, 0, 0, 0, 0, 0, 0, 0, ...      0.849340   \n",
       "31  [11, 0, 0, 0, 6, 0, 0, 0, 0, 0, 0, 0, 0, 0, 0,...      0.844786   \n",
       "1   [5, 0, 0, 0, 2, 0, 0, 1, 0, 0, 0, 0, 0, 0, 0, ...      0.784210   \n",
       "68  [8, 0, 0, 1, 6, 0, 0, 0, 0, 0, 0, 0, 0, 0, 0, ...      0.821573   \n",
       "48  [6, 0, 0, 0, 9, 0, 0, 0, 0, 0, 0, 0, 0, 0, 0, ...      0.787610   \n",
       "\n",
       "    corpus_distance  replication  \n",
       "97         0.848734     0.875588  \n",
       "87         0.807323     0.831616  \n",
       "50         0.806190     0.792593  \n",
       "11         0.842443     0.826207  \n",
       "17         0.819649     0.814550  \n",
       "77         0.833972     0.852688  \n",
       "31         0.818968     0.780527  \n",
       "1          0.782493     0.779936  \n",
       "68         0.823230     0.825538  \n",
       "48         0.777824     0.763254  "
      ]
     },
     "execution_count": 76,
     "metadata": {},
     "output_type": "execute_result"
    }
   ],
   "source": [
    "df['replication'] = np.nan\n",
    "def across_study_mean(df):\n",
    "    for maindoc in df.index:\n",
    "        pairwise_sim = []\n",
    "        for doc in df[(df.year != int(df[df.index == 0].year))].index:\n",
    "            sim = 1 - spatial.distance.cosine(df.term_freq.loc[maindoc], df.term_freq.loc[doc])\n",
    "            pairwise_sim.append(sim)\n",
    "        average = (sum(pairwise_sim))/(len(pairwise_sim))\n",
    "        df.at[maindoc, 'replication'] = average\n",
    "    return df\n",
    "df = across_study_mean(df)\n",
    "df.sample(10)"
   ]
  },
  {
   "cell_type": "code",
   "execution_count": 77,
   "metadata": {},
   "outputs": [],
   "source": [
    "# Results - Corpus"
   ]
  },
  {
   "cell_type": "code",
   "execution_count": 78,
   "metadata": {},
   "outputs": [
    {
     "name": "stdout",
     "output_type": "stream",
     "text": [
      "0.824088391736315\n",
      "0.020034033919407918\n"
     ]
    }
   ],
   "source": [
    "print(df.corpus_distance.mean())\n",
    "print(df.corpus_distance.std())"
   ]
  },
  {
   "cell_type": "code",
   "execution_count": 79,
   "metadata": {},
   "outputs": [
    {
     "name": "stdout",
     "output_type": "stream",
     "text": [
      "0.8248845177470735\n",
      "0.03139696142995132\n"
     ]
    }
   ],
   "source": [
    "print(df.replication.mean())\n",
    "print(df.replication.std())"
   ]
  },
  {
   "cell_type": "code",
   "execution_count": 80,
   "metadata": {},
   "outputs": [
    {
     "data": {
      "text/plain": [
       "Ttest_indResult(statistic=4.056699817956279, pvalue=6.874217018760697e-05)"
      ]
     },
     "execution_count": 80,
     "metadata": {},
     "output_type": "execute_result"
    }
   ],
   "source": [
    "from scipy import stats\n",
    "stats.ttest_ind(df.within_study, df.replication)"
   ]
  },
  {
   "cell_type": "code",
   "execution_count": 81,
   "metadata": {},
   "outputs": [
    {
     "data": {
      "text/plain": [
       "113"
      ]
     },
     "execution_count": 81,
     "metadata": {},
     "output_type": "execute_result"
    }
   ],
   "source": [
    "len(df)"
   ]
  },
  {
   "cell_type": "code",
   "execution_count": 82,
   "metadata": {},
   "outputs": [
    {
     "name": "stdout",
     "output_type": "stream",
     "text": [
      "t = 4.056699817956279\n",
      "p = 6.874217018748574e-05\n"
     ]
    }
   ],
   "source": [
    "## Define 2 random distributions\n",
    "#Sample Size\n",
    "N = len(df)\n",
    "\n",
    "a = df.within_study\n",
    "b = df.replication\n",
    "\n",
    "\n",
    "## Calculate the Standard Deviation\n",
    "#Calculate the variance to get the standard deviation\n",
    "\n",
    "#For unbiased max likelihood estimate we have to divide the var by N-1, and therefore the parameter ddof = 1\n",
    "var_a = a.var(ddof=1)\n",
    "var_b = b.var(ddof=1)\n",
    "\n",
    "#std deviation\n",
    "s = np.sqrt((var_a + var_b)/2)\n",
    "s\n",
    "\n",
    "\n",
    "\n",
    "## Calculate the t-statistics\n",
    "t = (a.mean() - b.mean())/(s*np.sqrt(2/N))\n",
    "\n",
    "\n",
    "\n",
    "## Compare with the critical t-value\n",
    "#Degrees of freedom\n",
    "degrees = 2*N - 2\n",
    "\n",
    "#p-value after comparison with the t \n",
    "p = 1 - stats.t.cdf(t,df=degrees)\n",
    "\n",
    "\n",
    "print(\"t = \" + str(t))\n",
    "print(\"p = \" + str(2*p))\n",
    "### You can see that after comparing the t statistic with the critical t value (computed internally) we get a good p value of 0.0005 and thus we reject the null hypothesis and thus it proves that the mean of the two distributions are different and statistically significant.\n"
   ]
  },
  {
   "cell_type": "markdown",
   "metadata": {},
   "source": [
    "# Results - Replication where context varies"
   ]
  },
  {
   "cell_type": "code",
   "execution_count": 83,
   "metadata": {},
   "outputs": [
    {
     "data": {
      "text/plain": [
       "0.824088391736315"
      ]
     },
     "execution_count": 83,
     "metadata": {},
     "output_type": "execute_result"
    }
   ],
   "source": [
    "df.corpus_distance.mean()"
   ]
  },
  {
   "cell_type": "code",
   "execution_count": 84,
   "metadata": {},
   "outputs": [
    {
     "data": {
      "text/plain": [
       "0.020034033919407918"
      ]
     },
     "execution_count": 84,
     "metadata": {},
     "output_type": "execute_result"
    }
   ],
   "source": [
    "df.corpus_distance.std()"
   ]
  },
  {
   "cell_type": "code",
   "execution_count": 88,
   "metadata": {},
   "outputs": [
    {
     "data": {
      "text/plain": [
       "0.8395017828973319"
      ]
     },
     "execution_count": 88,
     "metadata": {},
     "output_type": "execute_result"
    }
   ],
   "source": [
    "df.within_study.mean()"
   ]
  },
  {
   "cell_type": "code",
   "execution_count": 96,
   "metadata": {},
   "outputs": [
    {
     "name": "stdout",
     "output_type": "stream",
     "text": [
      "0.8459020736713982\n",
      "45\n"
     ]
    }
   ],
   "source": [
    "print(df[df.year == 2019].within_study.mean())\n",
    "print(len(df[df.year == 2019].within_study))"
   ]
  },
  {
   "cell_type": "code",
   "execution_count": 97,
   "metadata": {},
   "outputs": [
    {
     "name": "stdout",
     "output_type": "stream",
     "text": [
      "0.8352662963556701\n",
      "68\n"
     ]
    }
   ],
   "source": [
    "print(df[df.year == 2018].within_study.mean())\n",
    "print(len(df[df.year == 2018].within_study))"
   ]
  },
  {
   "cell_type": "code",
   "execution_count": 98,
   "metadata": {},
   "outputs": [
    {
     "data": {
      "text/plain": [
       "0.8248845177470735"
      ]
     },
     "execution_count": 98,
     "metadata": {},
     "output_type": "execute_result"
    }
   ],
   "source": [
    "df.replication.mean()"
   ]
  },
  {
   "cell_type": "code",
   "execution_count": 89,
   "metadata": {},
   "outputs": [
    {
     "data": {
      "text/plain": [
       "0.8248845177470735"
      ]
     },
     "execution_count": 89,
     "metadata": {},
     "output_type": "execute_result"
    }
   ],
   "source": [
    "df.replication.mean()"
   ]
  },
  {
   "cell_type": "code",
   "execution_count": 90,
   "metadata": {},
   "outputs": [
    {
     "data": {
      "text/plain": [
       "0.021939655521082575"
      ]
     },
     "execution_count": 90,
     "metadata": {},
     "output_type": "execute_result"
    }
   ],
   "source": [
    "df.within_study.std()"
   ]
  },
  {
   "cell_type": "code",
   "execution_count": 91,
   "metadata": {},
   "outputs": [
    {
     "data": {
      "text/plain": [
       "0.03139696142995132"
      ]
     },
     "execution_count": 91,
     "metadata": {},
     "output_type": "execute_result"
    }
   ],
   "source": [
    "df.replication.std()"
   ]
  },
  {
   "cell_type": "code",
   "execution_count": 94,
   "metadata": {},
   "outputs": [
    {
     "data": {
      "text/plain": [
       "0.001884643378589186"
      ]
     },
     "execution_count": 94,
     "metadata": {},
     "output_type": "execute_result"
    }
   ],
   "source": [
    "se = df.corpus_distance.std()/np.sqrt(len(df))\n",
    "se"
   ]
  },
  {
   "cell_type": "code",
   "execution_count": null,
   "metadata": {},
   "outputs": [],
   "source": []
  }
 ],
 "metadata": {
  "kernelspec": {
   "display_name": "Python [conda env:spacy]",
   "language": "python",
   "name": "conda-env-spacy-py"
  },
  "language_info": {
   "codemirror_mode": {
    "name": "ipython",
    "version": 3
   },
   "file_extension": ".py",
   "mimetype": "text/x-python",
   "name": "python",
   "nbconvert_exporter": "python",
   "pygments_lexer": "ipython3",
   "version": "3.7.2"
  }
 },
 "nbformat": 4,
 "nbformat_minor": 2
}
