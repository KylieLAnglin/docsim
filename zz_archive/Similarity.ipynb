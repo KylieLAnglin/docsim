{
 "cells": [
  {
   "cell_type": "code",
   "execution_count": 1,
   "metadata": {},
   "outputs": [
    {
     "name": "stderr",
     "output_type": "stream",
     "text": [
      "/Users/kylieleblancKylie/anaconda/envs/spacy/lib/python3.7/site-packages/sklearn/model_selection/_split.py:18: DeprecationWarning: Using or importing the ABCs from 'collections' instead of from 'collections.abc' is deprecated, and in 3.8 it will stop working\n",
      "  from collections import Iterable\n"
     ]
    }
   ],
   "source": [
    "import similarity\n",
    "import operator\n",
    "import matplotlib.pyplot as plt\n",
    "plt.style.use('seaborn')"
   ]
  },
  {
   "cell_type": "code",
   "execution_count": 2,
   "metadata": {
    "collapsed": true
   },
   "outputs": [],
   "source": [
    "filepath = '/Users/kylieleblancKylie/domino/docsim/data/fall_2018/coaching/'"
   ]
  },
  {
   "cell_type": "code",
   "execution_count": 3,
   "metadata": {},
   "outputs": [
    {
     "name": "stdout",
     "output_type": "stream",
     "text": [
      "Average similarity to centroid:  0.91\n",
      "Standard deviation of similarity to centroid:  0.03\n",
      "Average pairwise similarity:  0.84\n",
      "Standard deviation of pairwise similarity:  0.03\n",
      "[0.9366952017599046, 0.949206676128448, 0.939517544127031, 0.9162748782183237, 0.934744265175048]\n",
      "[0.8573176362854407, 0.8671725652967226, 0.8594379988485386, 0.8374668106020966, 0.8539791994748049]\n"
     ]
    },
    {
     "data": {
      "image/png": "[encoded data removed]",
      "text/plain": [
       "<Figure size 432x288 with 1 Axes>"
      ]
     },
     "metadata": {},
     "output_type": "display_data"
    }
   ],
   "source": [
    "doc_dict, fall_sim_centroid, fall_sim_pairwise = similarity.calc_within_group_sim_metrics(filepath, pattern = '2018*docx')\n",
    "print(fall_sim_centroid[:5])\n",
    "print(fall_sim_pairwise[:5])\n",
    "plt.hist(fall_sim_pairwise, color = \"blue\", label = \"Pairwise Similarity\", alpha = .5)\n",
    "plt.hist(fall_sim_centroid, color = \"green\", label = \"Similarity to Centroid\", alpha = .5)\n",
    "plt.legend()\n",
    "plt.title(\"W/in Fall Coaching Measures of Similarity\")\n",
    "plt.show()"
   ]
  },
  {
   "cell_type": "markdown",
   "metadata": {},
   "source": [
    "## Sort texts by metrics"
   ]
  },
  {
   "cell_type": "code",
   "execution_count": 4,
   "metadata": {},
   "outputs": [
    {
     "data": {
      "text/plain": [
       "[('2018_29_3C_Transcript.docx', 0.7620375756802957),\n",
       " ('2018_27_3C_Transcript.docx', 0.7652966266047443),\n",
       " ('2018_23_3C Transcript.docx', 0.7839394353623905),\n",
       " ('2018_49_3C Transcript.docx', 0.786466143934771),\n",
       " ('2018_37_3C Transcript.docx', 0.7876294937932894),\n",
       " ('2018_57_3C_Transcript.docx', 0.7888756973504083),\n",
       " ('2018_55_3C_Transcript.docx', 0.7934451188826056),\n",
       " ('2018_4_3C Transcript.docx', 0.7960703333050274),\n",
       " ('2018_47_3C_Transcript.docx', 0.7978503734107577),\n",
       " ('2018_115_3C_Transcript.docx', 0.8040420126957324),\n",
       " ('2018_3_3C_Transcript.docx', 0.8080162502141867),\n",
       " ('2018_13_3C_Transcript.docx', 0.811196459526674),\n",
       " ('2018_70_3C_Transcript.docx', 0.8203470118000965),\n",
       " ('2018_88_3C_Transcript.docx', 0.8250379504066814),\n",
       " ('2018_59_3C_Transcript.docx', 0.826887385024468),\n",
       " ('2018_14_3C_Transcript.docx', 0.8328589387298417),\n",
       " ('2018_101_3C_Transcript.docx', 0.8350259099001964),\n",
       " ('2018_46_3C_Transcript.docx', 0.8374668106020966),\n",
       " ('2018_96_3C_Transcript.docx', 0.8391421856026487),\n",
       " ('2018_61_3C_Transcript.docx', 0.8413158453140052),\n",
       " ('2018_94_3C_Transcript.docx', 0.8436559014731841),\n",
       " ('2018_68_3C_Transcript.docx', 0.8460914213632718),\n",
       " ('2018_26_3C_Transcript.docx', 0.8463490024459632),\n",
       " ('2018_8_3C_Transcript.docx', 0.8466150749502531),\n",
       " ('2018_44_3C_Transcript.docx', 0.8476254049140479),\n",
       " ('2018_112_3C_Transcript.docx', 0.848966236621321),\n",
       " ('2018_53_3C_Transcript.docx', 0.849336178731003),\n",
       " ('2018_111_3C_Transcript.docx', 0.8500088570606132),\n",
       " ('2018_98_3C_Transcript.docx', 0.8528434407915876),\n",
       " ('2018_95_3C_Transcript.docx', 0.8529148777280315),\n",
       " ('2018_87_3C_Transcript.docx', 0.853283494783968),\n",
       " ('2018_90_3C_Transcript.docx', 0.8539791994748049),\n",
       " ('2018_42_3C_Transcript.docx', 0.8542709625112047),\n",
       " ('2018_109_3C_Transcript.docx', 0.8546143180363713),\n",
       " ('2018_41_3C Transcript .docx', 0.8548348079358106),\n",
       " ('2018_100_3C_Transcript.docx', 0.855406774371745),\n",
       " ('2018_78_3C_Transcript.docx', 0.8559714160023992),\n",
       " ('2018_45_3C Transcript.docx', 0.8566036882679428),\n",
       " ('2018_18_3C_Transcript.docx', 0.8573176362854407),\n",
       " ('2018_69_3C_Transcript.docx', 0.8588229368888536),\n",
       " ('2018_75_3C_Transcript.docx', 0.8589873199744802),\n",
       " ('2018_28_3C_Transcript.docx', 0.8594379988485386),\n",
       " ('2018_48_3C_Transcript.docx', 0.8607742005668415),\n",
       " ('2018_97_3C_Transcript.docx', 0.8617402571109948),\n",
       " ('2018_118_3C_Transcript.docx', 0.862799527338024),\n",
       " ('2018_56_3C Transcript.docx', 0.8668381146858872),\n",
       " ('2018_80_3C_Transcript.docx', 0.8671725652967226),\n",
       " ('2018_93_3C_Transcript.docx', 0.8713464550096741),\n",
       " ('2018_82_3C_Transcript.docx', 0.8766924024055521)]"
      ]
     },
     "execution_count": 4,
     "metadata": {},
     "output_type": "execute_result"
    }
   ],
   "source": [
    "dict_sim = similarity.dict_doc_similarity(doc_dict.keys(),fall_sim_pairwise) \n",
    "sorted_dict = sorted(dict_sim.items(), key=operator.itemgetter(1))\n",
    "sorted_dict"
   ]
  },
  {
   "cell_type": "markdown",
   "metadata": {},
   "source": [
    "## Outlier Text"
   ]
  },
  {
   "cell_type": "code",
   "execution_count": 5,
   "metadata": {},
   "outputs": [
    {
     "data": {
      "text/plain": [
       "\"Coach:  [00:00:00] You just skip past it. [00:00:01]\\nCoach:   [00:00:02] Or it’s that he's really not understanding the text. And so if you're the one asking him to provide that evidence, then you're really helping him rethink how he does that, okay? [00:00:10]\\nCoach:   [00:00:12] So, let's go ahead and just practice.  Let's say why uhm don't you go ahead and ask me question one and I'm going to play student. [00:00:21]\\nCoach:   [00:00:28] Lisa. [00:00:28]\\nCoach:   [00:00:39] Uhm I think Lisa is probably angry. [00:00:41]\\nCoach:   [00:00:47] Uhm I think she was angry because, I mean, like why would she have to take a lie detector test to work at that place, right? [00:00:54]\\nCoach:   [00:00:55] That doesn't make sense. I'd be angry. [00:00:58]\\nCoach:   [00:01:07] Perfect.  So, you directed me back to a specific portion of the text that I could use to support or not support my thinking. [00:01:14]\\nCoach:   [00:01:16] And you were able to glean, “Huh, she did not read any of that.  She's just kind of making up some stuff.” [00:01:22]\\nCoach:   [00:01:23] And so you really got a sense of where that thinking was and you're modeling it for the rest of the students, right? [00:01:28]\\nCoach:   [00:01:29] Who also might have some incorrect thinking. [00:01:30]\\nCoach:   [00:01:31] So, when you go back in there, I want you to really think about making sure that when students have a misunderstanding of the text, that you're helping to support them in revising that statement. And then when they revise it, you can go ahead and celebrate them for making that revision. [00:01:45]\\nCoach:   [00:01:47] Does that sound like something you can work on? [00:01:48] \\nCoach:    [00:02:00] Yeah.  And it doesn't have to be a move it along. We don't care if he gets [inaudible], but like you’d be the one to really help him structure that understanding. [00:02:07]\\nCoach:   [00:02:09] Great. All right, have fun. [00:02:12]\""
      ]
     },
     "execution_count": 5,
     "metadata": {},
     "output_type": "execute_result"
    }
   ],
   "source": [
    "sorted_dict\n",
    "doc_dict[sorted_dict[0][0]]"
   ]
  },
  {
   "cell_type": "markdown",
   "metadata": {},
   "source": [
    "## Most Average Text"
   ]
  },
  {
   "cell_type": "code",
   "execution_count": 6,
   "metadata": {},
   "outputs": [
    {
     "data": {
      "text/plain": [
       "'Coach:  [00:00:00] so how are you feeling the first time [00:00:02]? \\nCoach:  [00:00:10] good, good.  So, I\\'m glad that you\\'re feeling great or good about it.  Hopefully, we can get you to feel even better for the next time.  So first of all, I just want to say I appreciate that you maintain enthusiasm in the simulator.  I know that\\'s hard when you\\'re like trying to interact with these avatars such students.  Also, I want to say that I really appreciated the way that you were constantly probing for evidence.  When a student would make a claim, you would say, \"What makes you think that?  What in the text?\" [00:00:35]\\nCoach:  [00:00:36] And then you were also facilitating and pointing them to places in the text.  So I think that as we move forward and we try to make the next simulation a little stronger, it might be best for us to focus on scaffolding for student comprehension. [00:00:50]\\nCoach:  [00:00:51] So sometimes students um can struggle to comprehend the text that they\\'re reading.  They can make claims that we know that aren\\'t supported in the text, can be outright refuted.  So we really want to focus on the feedback that we provide them to help support them in making sense and also revising their response.  So can you think of a time during the last simulation where a student gave an answer that was not accurate [00:01:16]? \\nCoach:  [00:01:38] good.  So I\\'m glad that you\\'re putting out--those out.  Let\\'s focus on one Eva for the second question.  So she said that Lisa is the new student intern.  Why is that not a valid claim [00:01:50]? \\nCoach:  [00:01:54] exactly.  So think about what you\\'re already doing well.  What could you do to like stick with Eva to help her realize that that\\'s a misconception?  Because that\\'s not really what\\'s happening right in the question like who is she really?  So what might you be able to do?  What make - what kind of feedback might you be able to give that would help us know that that is a misconception [00:02:18]?\\nCoach:  [00:02:23] perfect.  Perfect [00:02:23].\\nCoach:  [00:02:30] Right?  So we know that with Ava’s responses in regard to the question number two, and with who Lisa really is.  So what I going to reference or to this place in the text talks about if Pismo was so smart, would he be able to tell who she really was, would he know that her cover as a student intern was all a lie?  So maybe one of the best things to do would be to reference Eva, and other students to revisit this piece of the text and then ask Eva, \"Eva, after looking at this passage, would you want to revise your answer?\" [00:03:05] \\nCoach:  [00:03:06] And hopefully she would.  And at that point you just want to make sure you\\'re continuing to get high quality descriptive feedback like, \"Eva, I really like how you went back in the text, you know, after spending more time with it, you did something that really good readers do.  You make revisions to readers,\" those sorts of things.  And just keep that in mind that you - that would also be a good strategy moving forward for Ethan as well. [00:03:30] \\nCoach:  [00:03:32] So how might the feedback that we just talked about pointing them back to the text, having them kind of grapple at everything.  How might that be better than kind of leaving it open to like moving on to other students and seeing if they have a response [00:03:47]?\\nCoach:  [00:03:48] Right.  Yeah, you\\'ve [00:03:49] -\\nCoach:  [00:03:52] right.  Is there like [00:03:53] -\\nCoach:  [00:03:57] so if you don\\'t address it in the moment, you\\'re kind of really just hoping, right then that the conversation gets back to that and that the students - the other students kind of point you in that direction and that Eva will, you know, hopefully realize that that was a misconception .  But if you address it hadn\\'t went, then you\\'ll have dealt with it.  Because you don\\'t want - well, what you don’t want to happen is for students to leave thinking that, \"Oh, it could\\'ve been - she could have been a student intern or she could\\'ve been a spy she could have been a reporter.\"  Okay.  So let\\'s do a brief practice.  So, let\\'s see.  So I\\'ll ask - so I\\'m going to ask you a question and then you can respond.  So, how about if I said that Lisa is feeling angry when - when the lie detector results I brought up, what would you say to me [00:04:58]? \\nCoach:  [00:05:07] you could ask why they think that [00:05:09].\\nCoach:  [00:05:09] yeah [00:05:10].  \\nCoach:  [00:05:11] okay, great [00:05:12].'"
      ]
     },
     "execution_count": 6,
     "metadata": {},
     "output_type": "execute_result"
    }
   ],
   "source": [
    "sorted_dict\n",
    "doc_dict[sorted_dict[len(doc_dict) - 1][0]]"
   ]
  },
  {
   "cell_type": "code",
   "execution_count": 7,
   "metadata": {},
   "outputs": [
    {
     "name": "stdout",
     "output_type": "stream",
     "text": [
      "Average similarity to centroid:  0.89\n",
      "Standard deviation of similarity to centroid:  0.09\n",
      "Average pairwise similarity:  0.80\n",
      "Standard deviation of pairwise similarity:  0.08\n",
      "[0.9060503461033959, 0.6431842120858048, 0.9254507776726237, 0.9404057760698318, 0.9207615095974734]\n",
      "[0.7984112952890651, 0.5520221510597201, 0.8311644317838123, 0.8378776464554901, 0.831292180543849]\n"
     ]
    },
    {
     "data": {
      "image/png": "[encoded data removed]",
      "text/plain": [
       "<Figure size 432x288 with 1 Axes>"
      ]
     },
     "metadata": {},
     "output_type": "display_data"
    }
   ],
   "source": [
    "filepath = '/Users/kylieleblancKylie/domino/docsim/data/spring_2019/coaching/'\n",
    "doc_dict, spring_sim_centroid, spring_sim_pairwise = similarity.calc_within_group_sim_metrics(filepath, pattern = '2019*')\n",
    "print(spring_sim_centroid[:5])\n",
    "print(spring_sim_pairwise[:5])\n",
    "plt.hist(spring_sim_pairwise, color = \"blue\", label = \"Pairwise Similarity\", alpha = .5)\n",
    "plt.hist(spring_sim_centroid, color = \"green\", label = \"Similarity to Centroid\", alpha = .5)\n",
    "plt.legend()\n",
    "plt.title(\"W/in Spring Coaching Measures of Similarity\")\n",
    "plt.show()"
   ]
  },
  {
   "cell_type": "markdown",
   "metadata": {},
   "source": [
    "## Sort texts by metrics"
   ]
  },
  {
   "cell_type": "code",
   "execution_count": 8,
   "metadata": {
    "collapsed": true
   },
   "outputs": [],
   "source": [
    "dict_sim = similarity.dict_doc_similarity(doc_dict.keys(),spring_sim_pairwise) \n",
    "sorted_dict = sorted(dict_sim.items(), key=operator.itemgetter(1))"
   ]
  },
  {
   "cell_type": "markdown",
   "metadata": {},
   "source": [
    "## Outlier Text"
   ]
  },
  {
   "cell_type": "code",
   "execution_count": 9,
   "metadata": {},
   "outputs": [
    {
     "data": {
      "text/plain": [
       "'Coach: [5:29]-- And you may experiment in this next simulation also or in our, in the last couple seconds that we have to practice and – [Crosstalk]   [00:05:35]'"
      ]
     },
     "execution_count": 9,
     "metadata": {},
     "output_type": "execute_result"
    }
   ],
   "source": [
    "sorted_dict\n",
    "doc_dict[sorted_dict[0][0]]"
   ]
  },
  {
   "cell_type": "markdown",
   "metadata": {},
   "source": [
    "## Most Average Text"
   ]
  },
  {
   "cell_type": "code",
   "execution_count": 10,
   "metadata": {},
   "outputs": [
    {
     "data": {
      "text/plain": [
       "'Coach: [00:00:00] Go ahead and tell me your thoughts about what went well in the simulator and what you feel good. [00:00:06]\\nCoach: [00:00:28] Okay.  I mean all really good things to think about and like the right questions to ask so we can use this time checklist.  Before we do that though, what I want to first tell you about today I’m going to keep with - the first thing I want to say is to tell you what you did well, which is that you’ve made sure to respond to every behavior.  You didn’t just like, ignore them or kind of talk over them which was great.  So I want you to keep doing that and now we’ll spend the rest of the time talking about that kind of tone of voice and wording and when to respond. [00:00:56]\\nCoach: [00:00:56] So for that last part, you should respond right away.  The more that you let the behavior go on, the more that sends the message that he’d think it’s acceptable sort of like and you don’t want to send that message, especially when it’s a behavior that’s like could be interrupting of other students’ learning. [00:01:12]\\nCoach: [00:01:13] So as soon as you notice it, that’s when you want to say some good norm in terms of what you say and how do you make to stay calm.  So the fewer words that you use, you send more of a message of like this, like if you used to – if you talk a lot about it, then you’re sending a message of like, this is a big deal and I’m taking a lots of energy and that makes it feel more dramatic.  So, you want to add that gives you more chance to, like, be emotional. [00:01:36]\\nCoach: [00:01:37] So, do you want to make it not like quick like talking fast but like few words and that will help you with some of that like just say it simply and move on. [00:01:47]\\nCoach: [00:01:48] Oftentimes if you smile when you’re saying if I can help with the positive tone. So let’s do Ethan’s on his phone, right? [00:02:01]\\nCoach: [00:02:01] All right.  So I’m Ethan on my phone, try to tell me what I should do. [00:02:05]\\nCoach: [00:02:09] Perfect.  Yeah.  So that was nice and short, you didn’t ask questions or be like because all of these, you know, yeah perfect.  Do you want to try it again and add a little more positive tone for me. [00:02:19]\\nCoach: [00:02:25] Yeah, perfect.  That is often like a nice way to begin. [00:02:29]\\nCoach: [00:02:30] So you can smile at the end also and saying thank you is perfectly reasonable.  And then, you want to make sure that you quickly moved back to what you’re saying.  So it doesn’t feel like you took the whole classes’ attention to, like, let’s look at Ethan and what he’s doing, should let can we do that and now we’re moving on.\\nCoach: [00:03:07] [Singing] [00:03:09]\\nCoach: [00:03:13] Try it again but focus on the not singing part rather than the because it – let’s get back to this discussion, I can be like well I’m contributing to the discussion cause I’m singing. [00:03:24]\\nCoach: [00:03:26] [singing]\\nCoach: [00:03:30] Then? [00:03:30]\\nCoach: [00:03:34] One more time with a slightly more positive tone. [00:03:37]\\nCoach: [00:03:39] I know it’s hard.  But like the positive tone was one of the things that I had to spend the most time like thinking about all the time when I was – because it’s easy to get frustrated when you lost control [00:03:48]\\nCoach: [00:03:53] [Singing] [00:03:55]\\nCoach: [00:03:57] Perfect.  And then keep on… [00:03:58]\\nCoach: [00:04:04] Excellent.  Okay.  We have about a minute left, so we can either do more practice or if you have questions so far of the things that you want to discuss.  [00:04:13]\\nCoach: [00:04:23] Yeah.  So the answer is, it’s possible there might be certain kids that that’s true for.  In my experience, especially like on the first day of class or like yeah, towards the beginning before you established norms, the positive is typically good for everybody.  Because you’re still clear, right, you’re not saying like, don’t sing.  But you should –as long as you’re not being confusing, you’re being clear about what you want, then students understand and you can always, if the behavior keeps going that’s when you might need to change your tune. Does that make sense? [00:05:00]\\nCoach: [00:05:03] Good question, though.  All right, you got this. [00:05:04]'"
      ]
     },
     "execution_count": 10,
     "metadata": {},
     "output_type": "execute_result"
    }
   ],
   "source": [
    "sorted_dict\n",
    "doc_dict[sorted_dict[len(doc_dict) - 1][0]]"
   ]
  },
  {
   "cell_type": "code",
   "execution_count": null,
   "metadata": {
    "collapsed": true
   },
   "outputs": [],
   "source": []
  }
 ],
 "metadata": {
  "kernelspec": {
   "display_name": "Python [conda env:spacy]",
   "language": "python",
   "name": "conda-env-spacy-py"
  },
  "language_info": {
   "codemirror_mode": {
    "name": "ipython",
    "version": 3
   },
   "file_extension": ".py",
   "mimetype": "text/x-python",
   "name": "python",
   "nbconvert_exporter": "python",
   "pygments_lexer": "ipython3",
   "version": "3.7.0"
  }
 },
 "nbformat": 4,
 "nbformat_minor": 2
}
