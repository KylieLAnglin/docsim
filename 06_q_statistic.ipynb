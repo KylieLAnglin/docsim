{
 "cells": [
  {
   "cell_type": "code",
   "execution_count": 1,
   "metadata": {},
   "outputs": [
    {
     "name": "stderr",
     "output_type": "stream",
     "text": [
      "/Users/kylieleblancKylie/anaconda/envs/spacy/lib/python3.7/site-packages/sklearn/utils/__init__.py:4: DeprecationWarning: Using or importing the ABCs from 'collections' instead of from 'collections.abc' is deprecated, and in 3.8 it will stop working\n",
      "  from collections import Sequence\n"
     ]
    }
   ],
   "source": [
    "import pandas as pd\n",
    "from scipy import spatial\n",
    "from openpyxl import load_workbook\n",
    "from sklearn.feature_extraction.text import TfidfTransformer\n",
    "from sklearn.decomposition import TruncatedSVD\n",
    "from sklearn.preprocessing import Normalizer\n",
    "import numpy as np"
   ]
  },
  {
   "cell_type": "code",
   "execution_count": 2,
   "metadata": {},
   "outputs": [],
   "source": [
    "clean_filepath = \"/Users/kylieleblancKylie/domino/docsim/data/clean/\"\n",
    "table_filepath = \"/Users/kylieleblancKylie/domino/docsim/results/\""
   ]
  },
  {
   "cell_type": "code",
   "execution_count": 3,
   "metadata": {},
   "outputs": [
    {
     "data": {
      "text/html": [
       "<div>\n",
       "<style scoped>\n",
       "    .dataframe tbody tr th:only-of-type {\n",
       "        vertical-align: middle;\n",
       "    }\n",
       "\n",
       "    .dataframe tbody tr th {\n",
       "        vertical-align: top;\n",
       "    }\n",
       "\n",
       "    .dataframe thead th {\n",
       "        text-align: right;\n",
       "    }\n",
       "</style>\n",
       "<table border=\"1\" class=\"dataframe\">\n",
       "  <thead>\n",
       "    <tr style=\"text-align: right;\">\n",
       "      <th></th>\n",
       "      <th>text</th>\n",
       "      <th>year</th>\n",
       "      <th>semester</th>\n",
       "    </tr>\n",
       "    <tr>\n",
       "      <th>doc</th>\n",
       "      <th></th>\n",
       "      <th></th>\n",
       "      <th></th>\n",
       "    </tr>\n",
       "  </thead>\n",
       "  <tbody>\n",
       "    <tr>\n",
       "      <th>7-2C.docx</th>\n",
       "      <td>What do you mean? What's not well?   True. A...</td>\n",
       "      <td>2017-18</td>\n",
       "      <td>spring</td>\n",
       "    </tr>\n",
       "    <tr>\n",
       "      <th>2019_66_5C_Transcript.docx</th>\n",
       "      <td>All right, so how do you think that went?  ...</td>\n",
       "      <td>2018-19</td>\n",
       "      <td>spring</td>\n",
       "    </tr>\n",
       "    <tr>\n",
       "      <th>2018_97_3C_Transcript.docx</th>\n",
       "      <td>All right, take a deep breath.     All righ...</td>\n",
       "      <td>2018-19</td>\n",
       "      <td>fall</td>\n",
       "    </tr>\n",
       "    <tr>\n",
       "      <th>72-2C.docx</th>\n",
       "      <td>So how do you feel about that?   Yeah?   Eth...</td>\n",
       "      <td>2017-18</td>\n",
       "      <td>spring</td>\n",
       "    </tr>\n",
       "    <tr>\n",
       "      <th>53-2C.docx</th>\n",
       "      <td>So, how do you feel about that first? Good? ...</td>\n",
       "      <td>2017-18</td>\n",
       "      <td>spring</td>\n",
       "    </tr>\n",
       "  </tbody>\n",
       "</table>\n",
       "</div>"
      ],
      "text/plain": [
       "                                                                         text  \\\n",
       "doc                                                                             \n",
       "7-2C.docx                     What do you mean? What's not well?   True. A...   \n",
       "2019_66_5C_Transcript.docx     All right, so how do you think that went?  ...   \n",
       "2018_97_3C_Transcript.docx     All right, take a deep breath.     All righ...   \n",
       "72-2C.docx                    So how do you feel about that?   Yeah?   Eth...   \n",
       "53-2C.docx                    So, how do you feel about that first? Good? ...   \n",
       "\n",
       "                               year semester  \n",
       "doc                                           \n",
       "7-2C.docx                   2017-18   spring  \n",
       "2019_66_5C_Transcript.docx  2018-19   spring  \n",
       "2018_97_3C_Transcript.docx  2018-19     fall  \n",
       "72-2C.docx                  2017-18   spring  \n",
       "53-2C.docx                  2017-18   spring  "
      ]
     },
     "execution_count": 3,
     "metadata": {},
     "output_type": "execute_result"
    }
   ],
   "source": [
    "docs = pd.read_csv(clean_filepath + 'text_corpus.csv')\n",
    "docs = docs.set_index('doc')\n",
    "docs.sample(5)"
   ]
  },
  {
   "cell_type": "code",
   "execution_count": 5,
   "metadata": {},
   "outputs": [
    {
     "data": {
      "text/html": [
       "<div>\n",
       "<style scoped>\n",
       "    .dataframe tbody tr th:only-of-type {\n",
       "        vertical-align: middle;\n",
       "    }\n",
       "\n",
       "    .dataframe tbody tr th {\n",
       "        vertical-align: top;\n",
       "    }\n",
       "\n",
       "    .dataframe thead th {\n",
       "        text-align: right;\n",
       "    }\n",
       "</style>\n",
       "<table border=\"1\" class=\"dataframe\">\n",
       "  <thead>\n",
       "    <tr style=\"text-align: right;\">\n",
       "      <th></th>\n",
       "      <th>10</th>\n",
       "      <th>100</th>\n",
       "      <th>12</th>\n",
       "      <th>15</th>\n",
       "      <th>16</th>\n",
       "      <th>20</th>\n",
       "      <th>29</th>\n",
       "      <th>30</th>\n",
       "      <th>40</th>\n",
       "      <th>7th</th>\n",
       "      <th>...</th>\n",
       "      <th>york</th>\n",
       "      <th>you</th>\n",
       "      <th>young</th>\n",
       "      <th>younger</th>\n",
       "      <th>your</th>\n",
       "      <th>yours</th>\n",
       "      <th>yourself</th>\n",
       "      <th>yup</th>\n",
       "      <th>zen</th>\n",
       "      <th>zone</th>\n",
       "    </tr>\n",
       "    <tr>\n",
       "      <th>doc</th>\n",
       "      <th></th>\n",
       "      <th></th>\n",
       "      <th></th>\n",
       "      <th></th>\n",
       "      <th></th>\n",
       "      <th></th>\n",
       "      <th></th>\n",
       "      <th></th>\n",
       "      <th></th>\n",
       "      <th></th>\n",
       "      <th></th>\n",
       "      <th></th>\n",
       "      <th></th>\n",
       "      <th></th>\n",
       "      <th></th>\n",
       "      <th></th>\n",
       "      <th></th>\n",
       "      <th></th>\n",
       "      <th></th>\n",
       "      <th></th>\n",
       "      <th></th>\n",
       "    </tr>\n",
       "  </thead>\n",
       "  <tbody>\n",
       "    <tr>\n",
       "      <th>2018_93_3C_Transcript.docx</th>\n",
       "      <td>0</td>\n",
       "      <td>0</td>\n",
       "      <td>0</td>\n",
       "      <td>0</td>\n",
       "      <td>0</td>\n",
       "      <td>0</td>\n",
       "      <td>0</td>\n",
       "      <td>0</td>\n",
       "      <td>0</td>\n",
       "      <td>0</td>\n",
       "      <td>...</td>\n",
       "      <td>0</td>\n",
       "      <td>40</td>\n",
       "      <td>0</td>\n",
       "      <td>0</td>\n",
       "      <td>6</td>\n",
       "      <td>0</td>\n",
       "      <td>0</td>\n",
       "      <td>0</td>\n",
       "      <td>0</td>\n",
       "      <td>0</td>\n",
       "    </tr>\n",
       "    <tr>\n",
       "      <th>2018_97_3C_Transcript.docx</th>\n",
       "      <td>0</td>\n",
       "      <td>0</td>\n",
       "      <td>1</td>\n",
       "      <td>0</td>\n",
       "      <td>0</td>\n",
       "      <td>0</td>\n",
       "      <td>0</td>\n",
       "      <td>0</td>\n",
       "      <td>0</td>\n",
       "      <td>0</td>\n",
       "      <td>...</td>\n",
       "      <td>1</td>\n",
       "      <td>27</td>\n",
       "      <td>0</td>\n",
       "      <td>0</td>\n",
       "      <td>0</td>\n",
       "      <td>0</td>\n",
       "      <td>0</td>\n",
       "      <td>0</td>\n",
       "      <td>0</td>\n",
       "      <td>0</td>\n",
       "    </tr>\n",
       "    <tr>\n",
       "      <th>2018_13_3C_Transcript.docx</th>\n",
       "      <td>0</td>\n",
       "      <td>0</td>\n",
       "      <td>0</td>\n",
       "      <td>0</td>\n",
       "      <td>0</td>\n",
       "      <td>0</td>\n",
       "      <td>0</td>\n",
       "      <td>0</td>\n",
       "      <td>0</td>\n",
       "      <td>0</td>\n",
       "      <td>...</td>\n",
       "      <td>0</td>\n",
       "      <td>13</td>\n",
       "      <td>0</td>\n",
       "      <td>0</td>\n",
       "      <td>3</td>\n",
       "      <td>0</td>\n",
       "      <td>0</td>\n",
       "      <td>0</td>\n",
       "      <td>0</td>\n",
       "      <td>0</td>\n",
       "    </tr>\n",
       "    <tr>\n",
       "      <th>2019_81_5C_Transcript.docx</th>\n",
       "      <td>0</td>\n",
       "      <td>0</td>\n",
       "      <td>0</td>\n",
       "      <td>0</td>\n",
       "      <td>0</td>\n",
       "      <td>0</td>\n",
       "      <td>0</td>\n",
       "      <td>0</td>\n",
       "      <td>0</td>\n",
       "      <td>0</td>\n",
       "      <td>...</td>\n",
       "      <td>0</td>\n",
       "      <td>39</td>\n",
       "      <td>0</td>\n",
       "      <td>0</td>\n",
       "      <td>5</td>\n",
       "      <td>0</td>\n",
       "      <td>0</td>\n",
       "      <td>0</td>\n",
       "      <td>0</td>\n",
       "      <td>0</td>\n",
       "    </tr>\n",
       "    <tr>\n",
       "      <th>2018_75_3C_Transcript.docx</th>\n",
       "      <td>0</td>\n",
       "      <td>0</td>\n",
       "      <td>0</td>\n",
       "      <td>0</td>\n",
       "      <td>0</td>\n",
       "      <td>0</td>\n",
       "      <td>0</td>\n",
       "      <td>0</td>\n",
       "      <td>0</td>\n",
       "      <td>0</td>\n",
       "      <td>...</td>\n",
       "      <td>0</td>\n",
       "      <td>39</td>\n",
       "      <td>0</td>\n",
       "      <td>0</td>\n",
       "      <td>3</td>\n",
       "      <td>0</td>\n",
       "      <td>0</td>\n",
       "      <td>0</td>\n",
       "      <td>0</td>\n",
       "      <td>0</td>\n",
       "    </tr>\n",
       "  </tbody>\n",
       "</table>\n",
       "<p>5 rows × 2650 columns</p>\n",
       "</div>"
      ],
      "text/plain": [
       "                            10  100  12  15  16  20  29  30  40  7th  ...  \\\n",
       "doc                                                                   ...   \n",
       "2018_93_3C_Transcript.docx   0    0   0   0   0   0   0   0   0    0  ...   \n",
       "2018_97_3C_Transcript.docx   0    0   1   0   0   0   0   0   0    0  ...   \n",
       "2018_13_3C_Transcript.docx   0    0   0   0   0   0   0   0   0    0  ...   \n",
       "2019_81_5C_Transcript.docx   0    0   0   0   0   0   0   0   0    0  ...   \n",
       "2018_75_3C_Transcript.docx   0    0   0   0   0   0   0   0   0    0  ...   \n",
       "\n",
       "                            york  you  young  younger  your  yours  yourself  \\\n",
       "doc                                                                            \n",
       "2018_93_3C_Transcript.docx     0   40      0        0     6      0         0   \n",
       "2018_97_3C_Transcript.docx     1   27      0        0     0      0         0   \n",
       "2018_13_3C_Transcript.docx     0   13      0        0     3      0         0   \n",
       "2019_81_5C_Transcript.docx     0   39      0        0     5      0         0   \n",
       "2018_75_3C_Transcript.docx     0   39      0        0     3      0         0   \n",
       "\n",
       "                            yup  zen  zone  \n",
       "doc                                         \n",
       "2018_93_3C_Transcript.docx    0    0     0  \n",
       "2018_97_3C_Transcript.docx    0    0     0  \n",
       "2018_13_3C_Transcript.docx    0    0     0  \n",
       "2019_81_5C_Transcript.docx    0    0     0  \n",
       "2018_75_3C_Transcript.docx    0    0     0  \n",
       "\n",
       "[5 rows x 2650 columns]"
      ]
     },
     "execution_count": 5,
     "metadata": {},
     "output_type": "execute_result"
    }
   ],
   "source": [
    "matrix_corpus = pd.read_csv(clean_filepath + 'matrix_corpus.csv')\n",
    "matrix_corpus = matrix_corpus.set_index('doc')\n",
    "matrix_corpus.sample(5)"
   ]
  },
  {
   "cell_type": "code",
   "execution_count": 6,
   "metadata": {},
   "outputs": [],
   "source": [
    "def distance_to_mean(df, matrix_main, matrix_comparison):\n",
    "    centroid = np.mean(matrix_comparison)\n",
    "    sims = []\n",
    "    for maindoc in matrix_main.index:\n",
    "        sim = 1 - spatial.distance.cosine(matrix_main.loc[maindoc], centroid)\n",
    "        sims.append(sim)\n",
    "        #average = sum(pairwise_sim)/len(pairwise_sim)\n",
    "        #df.at[maindoc, 'to_ideal'] = average\n",
    "    \n",
    "    return sims"
   ]
  },
  {
   "cell_type": "code",
   "execution_count": 26,
   "metadata": {},
   "outputs": [],
   "source": [
    "matrix_main = matrix_corpus[matrix_corpus.index.isin(list(docs[(docs.year == '2018-19') & (docs.semester == 'spring')].index))]\n",
    "matrix_comparison = matrix_corpus[matrix_corpus.index.isin(list(docs[(docs.year == '2017-18') & (docs.semester == 'spring')].index))]\n",
    "cross_setting = distance_to_mean(docs, matrix_main, matrix_comparison)"
   ]
  },
  {
   "cell_type": "code",
   "execution_count": 27,
   "metadata": {},
   "outputs": [],
   "source": [
    "matrix_main = matrix_corpus[matrix_corpus.index.isin(list(docs[(docs.year == '2018-19') & (docs.semester == 'spring')].index))]\n",
    "matrix_comparison = matrix_corpus[matrix_corpus.index.isin(list(docs[(docs.year == '2018-19') & (docs.semester == 'fall')].index))]\n",
    "cross_cohort = distance_to_mean(docs, matrix_main, matrix_comparison)"
   ]
  },
  {
   "cell_type": "code",
   "execution_count": 9,
   "metadata": {},
   "outputs": [
    {
     "ename": "AttributeError",
     "evalue": "'list' object has no attribute 'mean'",
     "output_type": "error",
     "traceback": [
      "\u001b[0;31m---------------------------------------------------------------------------\u001b[0m",
      "\u001b[0;31mAttributeError\u001b[0m                            Traceback (most recent call last)",
      "\u001b[0;32m<ipython-input-9-038705d2b2ad>\u001b[0m in \u001b[0;36m<module>\u001b[0;34m()\u001b[0m\n\u001b[1;32m      2\u001b[0m \u001b[0mmatrix_comparison\u001b[0m \u001b[0;34m=\u001b[0m \u001b[0mmatrix_corpus\u001b[0m\u001b[0;34m[\u001b[0m\u001b[0mmatrix_corpus\u001b[0m\u001b[0;34m.\u001b[0m\u001b[0mindex\u001b[0m\u001b[0;34m.\u001b[0m\u001b[0misin\u001b[0m\u001b[0;34m(\u001b[0m\u001b[0mlist\u001b[0m\u001b[0;34m(\u001b[0m\u001b[0mdocs\u001b[0m\u001b[0;34m[\u001b[0m\u001b[0;34m(\u001b[0m\u001b[0mdocs\u001b[0m\u001b[0;34m.\u001b[0m\u001b[0myear\u001b[0m \u001b[0;34m==\u001b[0m \u001b[0;34m'2018-19'\u001b[0m\u001b[0;34m)\u001b[0m \u001b[0;34m&\u001b[0m \u001b[0;34m(\u001b[0m\u001b[0mdocs\u001b[0m\u001b[0;34m.\u001b[0m\u001b[0msemester\u001b[0m \u001b[0;34m==\u001b[0m \u001b[0;34m'spring'\u001b[0m\u001b[0;34m)\u001b[0m\u001b[0;34m]\u001b[0m\u001b[0;34m.\u001b[0m\u001b[0mindex\u001b[0m\u001b[0;34m)\u001b[0m\u001b[0;34m)\u001b[0m\u001b[0;34m]\u001b[0m\u001b[0;34m\u001b[0m\u001b[0;34m\u001b[0m\u001b[0m\n\u001b[1;32m      3\u001b[0m \u001b[0mcross_nothing\u001b[0m \u001b[0;34m=\u001b[0m \u001b[0mdistance_to_mean\u001b[0m\u001b[0;34m(\u001b[0m\u001b[0mdocs\u001b[0m\u001b[0;34m,\u001b[0m \u001b[0mmatrix_main\u001b[0m\u001b[0;34m,\u001b[0m \u001b[0mmatrix_comparison\u001b[0m\u001b[0;34m)\u001b[0m\u001b[0;34m\u001b[0m\u001b[0;34m\u001b[0m\u001b[0m\n\u001b[0;32m----> 4\u001b[0;31m \u001b[0mcross_nothing\u001b[0m\u001b[0;34m.\u001b[0m\u001b[0mmean\u001b[0m\u001b[0;34m(\u001b[0m\u001b[0;34m)\u001b[0m\u001b[0;34m\u001b[0m\u001b[0;34m\u001b[0m\u001b[0m\n\u001b[0m",
      "\u001b[0;31mAttributeError\u001b[0m: 'list' object has no attribute 'mean'"
     ]
    }
   ],
   "source": [
    "matrix_main = matrix_corpus[matrix_corpus.index.isin(list(docs[(docs.year == '2018-19') & (docs.semester == 'spring')].index))]\n",
    "matrix_comparison = matrix_corpus[matrix_corpus.index.isin(list(docs[(docs.year == '2018-19') & (docs.semester == 'spring')].index))]\n",
    "cross_nothing = distance_to_mean(docs, matrix_main, matrix_comparison)"
   ]
  },
  {
   "cell_type": "code",
   "execution_count": 29,
   "metadata": {},
   "outputs": [
    {
     "data": {
      "text/plain": [
       "0.8997673668974121"
      ]
     },
     "execution_count": 29,
     "metadata": {},
     "output_type": "execute_result"
    }
   ],
   "source": [
    "cross_setting_mean = np.asarray(cross_setting).mean()\n",
    "cross_setting_var = np.asarray(cross_setting).var()\n",
    "cross_setting_weighted = (cross_setting_mean/cross_setting_var)\n",
    "cross_setting_weight = 1/cross_setting_var\n",
    "cross_setting_mean"
   ]
  },
  {
   "cell_type": "code",
   "execution_count": 30,
   "metadata": {},
   "outputs": [
    {
     "data": {
      "text/plain": [
       "0.8581883958010609"
      ]
     },
     "execution_count": 30,
     "metadata": {},
     "output_type": "execute_result"
    }
   ],
   "source": [
    "cross_cohort_mean = np.asarray(cross_cohort).mean()\n",
    "cross_cohort_var = np.asarray(cross_cohort).var()\n",
    "cross_cohort_weighted = (cross_cohort_mean/cross_cohort_var)\n",
    "cross_cohort_weight = 1/cross_cohort_var\n",
    "cross_cohort_mean"
   ]
  },
  {
   "cell_type": "code",
   "execution_count": 10,
   "metadata": {},
   "outputs": [
    {
     "data": {
      "text/plain": [
       "0.9193659303115524"
      ]
     },
     "execution_count": 10,
     "metadata": {},
     "output_type": "execute_result"
    }
   ],
   "source": [
    "cross_nothing_mean = np.asarray(cross_nothing).mean()\n",
    "cross_nothing_var = np.asarray(cross_nothing).var()\n",
    "cross_nothing_weighted = (cross_nothing_mean/cross_nothing_var)\n",
    "cross_nothing_weight = 1/cross_nothing_var\n",
    "cross_nothing_mean"
   ]
  },
  {
   "cell_type": "code",
   "execution_count": 14,
   "metadata": {},
   "outputs": [
    {
     "data": {
      "text/plain": [
       "0.8191425502578794"
      ]
     },
     "execution_count": 14,
     "metadata": {},
     "output_type": "execute_result"
    }
   ],
   "source": [
    "year = '2018-19'\n",
    "semester = 'spring'\n",
    "for maindoc in list(docs[(docs.year == year) & (docs.semester == semester)].index):\n",
    "    pairwise_sim = []\n",
    "    for doc in list(docs[(docs.year == year) & (docs.semester == semester)].index):\n",
    "        sim = 1 - spatial.distance.cosine(matrix_corpus.loc[maindoc], matrix_corpus.loc[doc])\n",
    "        pairwise_sim.append(sim)\n",
    "    average = (sum(pairwise_sim) - 1)/(len(pairwise_sim) - 1) # don't include relationship with self\n",
    "    average = (sum(pairwise_sim))/(len(pairwise_sim)) # don't include relationship with self\n",
    "average"
   ]
  },
  {
   "cell_type": "code",
   "execution_count": 32,
   "metadata": {},
   "outputs": [
    {
     "data": {
      "text/plain": [
       "0.8938475415299135"
      ]
     },
     "execution_count": 32,
     "metadata": {},
     "output_type": "execute_result"
    }
   ],
   "source": [
    "tdot = (cross_setting_weighted + cross_cohort_weighted + cross_nothing_weighted)/(cross_setting_weight + cross_cohort_weight + cross_nothing_weight)\n",
    "tdot"
   ]
  },
  {
   "cell_type": "code",
   "execution_count": 33,
   "metadata": {},
   "outputs": [],
   "source": [
    "cross_setting_q = (cross_setting_mean - tdot)**2/cross_setting_var\n",
    "cross_cohort_q = (cross_cohort_mean - tdot)**2/cross_cohort_var\n",
    "cross_nothing_q = (cross_nothing_mean - tdot)**2/cross_nothing_var"
   ]
  },
  {
   "cell_type": "code",
   "execution_count": 34,
   "metadata": {},
   "outputs": [
    {
     "data": {
      "text/plain": [
       "3.7627083924095803"
      ]
     },
     "execution_count": 34,
     "metadata": {},
     "output_type": "execute_result"
    }
   ],
   "source": [
    "q = cross_setting_q + cross_cohort_q + cross_nothing_q\n",
    "q"
   ]
  },
  {
   "cell_type": "code",
   "execution_count": 35,
   "metadata": {},
   "outputs": [
    {
     "data": {
      "text/plain": [
       "1.8813541962047902"
      ]
     },
     "execution_count": 35,
     "metadata": {},
     "output_type": "execute_result"
    }
   ],
   "source": [
    "# physics rule\n",
    "# less than 1.25 = negligible heterogeneity\n",
    "q/(3-1)"
   ]
  },
  {
   "cell_type": "code",
   "execution_count": 36,
   "metadata": {},
   "outputs": [],
   "source": [
    "# k = number of studies\n",
    "# personnel psychology\n",
    "# l <= (k-1)/3\n",
    "# medicine\n",
    "# l <= 2(k-1)/2"
   ]
  },
  {
   "cell_type": "markdown",
   "metadata": {},
   "source": [
    "q = k - 1 + l <br/>\n",
    "q - l = k - 1 <br/>\n",
    "-l = k - 1 - q <br/>\n",
    "l = -1(k - 1- q) <br/>\n",
    "l = -k + 1 + q <br/>\n",
    "l = q + 1 - k <br/>"
   ]
  },
  {
   "cell_type": "code",
   "execution_count": 37,
   "metadata": {},
   "outputs": [
    {
     "data": {
      "text/plain": [
       "1.7627083924095803"
      ]
     },
     "execution_count": 37,
     "metadata": {},
     "output_type": "execute_result"
    }
   ],
   "source": [
    "l = q + 1 - 3\n",
    "l"
   ]
  },
  {
   "cell_type": "code",
   "execution_count": null,
   "metadata": {},
   "outputs": [],
   "source": []
  }
 ],
 "metadata": {
  "kernelspec": {
   "display_name": "Python 3.7.2 64-bit ('spacy': conda)",
   "language": "python",
   "name": "python37264bitspacycondac632d902c4c54f19b3da4fb768a0060a"
  },
  "language_info": {
   "codemirror_mode": {
    "name": "ipython",
    "version": 3
   },
   "file_extension": ".py",
   "mimetype": "text/x-python",
   "name": "python",
   "nbconvert_exporter": "python",
   "pygments_lexer": "ipython3",
   "version": "3.7.2"
  }
 },
 "nbformat": 4,
 "nbformat_minor": 2
}
